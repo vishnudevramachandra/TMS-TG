{
 "cells": [
  {
   "cell_type": "markdown",
   "source": [
    "1. Load the entire file onto memory\n",
    "2. (**, driver=\"core\"**)"
   ],
   "metadata": {
    "collapsed": false,
    "pycharm": {
     "name": "#%% md\n"
    }
   }
  },
  {
   "cell_type": "code",
   "execution_count": 102,
   "outputs": [],
   "source": [
    "import h5py\n",
    "#f = h5py.File(\"SLData_AP_PA1300um.mat\", driver=\"core\", backing_store=True)\n",
    "f = h5py.File(\"SLData_AP1300um.mat\", 'r')"
   ],
   "metadata": {
    "collapsed": false,
    "pycharm": {
     "name": "#%%\n"
    }
   }
  },
  {
   "cell_type": "markdown",
   "source": [
    "Maybe the core driver (above) only works during creation?"
   ],
   "metadata": {
    "collapsed": false,
    "pycharm": {
     "name": "#%% md\n"
    }
   }
  },
  {
   "cell_type": "code",
   "execution_count": 103,
   "outputs": [],
   "source": [
    " # Split the file into 1-GB chunks\n",
    "# f = h5py.File(\"family.hdf5\", driver=\"family\", memb_size=1024**3)"
   ],
   "metadata": {
    "collapsed": false,
    "pycharm": {
     "name": "#%%\n"
    }
   }
  },
  {
   "cell_type": "markdown",
   "source": [
    "## Dataset Basics"
   ],
   "metadata": {
    "collapsed": false,
    "pycharm": {
     "name": "#%% md\n"
    }
   }
  },
  {
   "cell_type": "code",
   "execution_count": 104,
   "outputs": [
    {
     "data": {
      "text/plain": "<HDF5 dataset \"my dataset\": shape (5, 2), type \"<f8\">"
     },
     "execution_count": 104,
     "metadata": {},
     "output_type": "execute_result"
    }
   ],
   "source": [
    "import numpy as np\n",
    "f = h5py.File(\"testfile.hdf5\", \"w\")\n",
    "arr = np.ones((5,2))\n",
    "f[\"my dataset\"] = arr\n",
    "dset = f[\"my dataset\"]\n",
    "dset"
   ],
   "metadata": {
    "collapsed": false,
    "pycharm": {
     "name": "#%%\n"
    }
   }
  },
  {
   "cell_type": "code",
   "execution_count": 105,
   "outputs": [
    {
     "data": {
      "text/plain": "numpy.ndarray"
     },
     "execution_count": 105,
     "metadata": {},
     "output_type": "execute_result"
    }
   ],
   "source": [
    "type(dset[...])"
   ],
   "metadata": {
    "collapsed": false,
    "pycharm": {
     "name": "#%%\n"
    }
   }
  },
  {
   "cell_type": "code",
   "execution_count": 106,
   "outputs": [],
   "source": [
    "dset[1:4, 1] = 2.0"
   ],
   "metadata": {
    "collapsed": false,
    "pycharm": {
     "name": "#%%\n"
    }
   }
  },
  {
   "cell_type": "code",
   "execution_count": 107,
   "outputs": [
    {
     "data": {
      "text/plain": "array([[1., 1.],\n       [1., 2.],\n       [1., 2.],\n       [1., 2.],\n       [1., 1.]])"
     },
     "execution_count": 107,
     "metadata": {},
     "output_type": "execute_result"
    }
   ],
   "source": [
    "dset[...]"
   ],
   "metadata": {
    "collapsed": false,
    "pycharm": {
     "name": "#%%\n"
    }
   }
  },
  {
   "cell_type": "code",
   "execution_count": 108,
   "outputs": [],
   "source": [
    "dset = f.create_dataset(\"test1\", (10, 10))"
   ],
   "metadata": {
    "collapsed": false,
    "pycharm": {
     "name": "#%%\n"
    }
   }
  },
  {
   "cell_type": "code",
   "execution_count": 109,
   "outputs": [
    {
     "data": {
      "text/plain": "<HDF5 dataset \"test2\": shape (10, 10), type \"<c16\">"
     },
     "execution_count": 109,
     "metadata": {},
     "output_type": "execute_result"
    }
   ],
   "source": [
    "f.create_dataset(\"test2\", (10, 10), dtype=np.complex_)"
   ],
   "metadata": {
    "collapsed": false,
    "pycharm": {
     "name": "#%%\n"
    }
   }
  },
  {
   "cell_type": "code",
   "execution_count": 110,
   "outputs": [
    {
     "data": {
      "text/plain": "dtype('complex128')"
     },
     "execution_count": 110,
     "metadata": {},
     "output_type": "execute_result"
    }
   ],
   "source": [
    "f[\"test2\"].dtype"
   ],
   "metadata": {
    "collapsed": false,
    "pycharm": {
     "name": "#%%\n"
    }
   }
  },
  {
   "cell_type": "markdown",
   "source": [
    "## create 1D dataset of size 4 gigabytes"
   ],
   "metadata": {
    "collapsed": false,
    "pycharm": {
     "name": "#%% md\n"
    }
   }
  },
  {
   "cell_type": "code",
   "execution_count": 111,
   "outputs": [],
   "source": [
    "dset = f.create_dataset(\"big dataset\", (1024**3,), dtype=np.float_)"
   ],
   "metadata": {
    "collapsed": false,
    "pycharm": {
     "name": "#%%\n"
    }
   }
  },
  {
   "cell_type": "code",
   "execution_count": 112,
   "outputs": [],
   "source": [
    "dset[0:1024] = np.arange(1024)\n",
    "f.flush()"
   ],
   "metadata": {
    "collapsed": false,
    "pycharm": {
     "name": "#%%\n"
    }
   }
  },
  {
   "cell_type": "code",
   "execution_count": 113,
   "outputs": [
    {
     "data": {
      "text/plain": "dtype('<f8')"
     },
     "execution_count": 113,
     "metadata": {},
     "output_type": "execute_result"
    }
   ],
   "source": [
    "dset.dtype"
   ],
   "metadata": {
    "collapsed": false,
    "pycharm": {
     "name": "#%%\n"
    }
   }
  },
  {
   "cell_type": "markdown",
   "source": [
    "## read_direct()\n",
    "### when reading from file to memory if a preallocated NumPy array of a different dtype is used, then the data is converted to NumPy array's dtype during reading"
   ],
   "metadata": {
    "collapsed": false,
    "pycharm": {
     "name": "#%% md\n"
    }
   }
  },
  {
   "cell_type": "code",
   "execution_count": 114,
   "outputs": [
    {
     "data": {
      "text/plain": "dtype('<f4')"
     },
     "execution_count": 114,
     "metadata": {},
     "output_type": "execute_result"
    }
   ],
   "source": [
    "dset = f[\"test1\"]\n",
    "dset.dtype"
   ],
   "metadata": {
    "collapsed": false,
    "pycharm": {
     "name": "#%%\n"
    }
   }
  },
  {
   "cell_type": "code",
   "execution_count": 115,
   "outputs": [],
   "source": [
    "big_out = np.empty((10, 10), dtype=np.float_)"
   ],
   "metadata": {
    "collapsed": false,
    "pycharm": {
     "name": "#%%\n"
    }
   }
  },
  {
   "cell_type": "code",
   "execution_count": 116,
   "outputs": [],
   "source": [
    "dset.read_direct(big_out)"
   ],
   "metadata": {
    "collapsed": false,
    "pycharm": {
     "name": "#%%\n"
    }
   }
  },
  {
   "cell_type": "code",
   "execution_count": 117,
   "outputs": [
    {
     "data": {
      "text/plain": "dtype('float64')"
     },
     "execution_count": 117,
     "metadata": {},
     "output_type": "execute_result"
    }
   ],
   "source": [
    "big_out.dtype"
   ],
   "metadata": {
    "collapsed": false,
    "pycharm": {
     "name": "#%%\n"
    }
   }
  },
  {
   "cell_type": "code",
   "execution_count": 118,
   "outputs": [
    {
     "data": {
      "text/plain": "dtype('float32')"
     },
     "execution_count": 118,
     "metadata": {},
     "output_type": "execute_result"
    }
   ],
   "source": [
    "dset = f[\"big dataset\"]\n",
    "out = dset.astype('float32')[0:1021]\n",
    "out.dtype"
   ],
   "metadata": {
    "collapsed": false,
    "pycharm": {
     "name": "#%%\n"
    }
   }
  },
  {
   "cell_type": "markdown",
   "source": [
    "## slicing efficiently"
   ],
   "metadata": {
    "collapsed": false,
    "pycharm": {
     "name": "#%% md\n"
    }
   }
  },
  {
   "cell_type": "markdown",
   "source": [
    "do instead of this:\n",
    "```\n",
    "for ix in range(100):\n",
    "    for iy in range(100):\n",
    "        val = dset[ix,iy]\n",
    "        ....\n",
    "```\n",
    "this:\n",
    "```\n",
    "for ix in range(100):\n",
    "    val = dset[ix,:]\n",
    "    ....\n",
    "```\n"
   ],
   "metadata": {
    "collapsed": false,
    "pycharm": {
     "name": "#%% md\n"
    }
   }
  },
  {
   "cell_type": "code",
   "execution_count": 119,
   "outputs": [
    {
     "data": {
      "text/plain": "42"
     },
     "execution_count": 119,
     "metadata": {},
     "output_type": "execute_result"
    }
   ],
   "source": [
    "dset = f.create_dataset('1d', shape=(1,), data=42)\n",
    "dset[0]"
   ],
   "metadata": {
    "collapsed": false,
    "pycharm": {
     "name": "#%%\n"
    }
   }
  },
  {
   "cell_type": "code",
   "execution_count": 120,
   "outputs": [
    {
     "data": {
      "text/plain": "42"
     },
     "execution_count": 120,
     "metadata": {},
     "output_type": "execute_result"
    }
   ],
   "source": [
    "dset = f.create_dataset('0d', data=42)\n",
    "dset[()]\n",
    "#dset[0] -will give error"
   ],
   "metadata": {
    "collapsed": false,
    "pycharm": {
     "name": "#%%\n"
    }
   }
  },
  {
   "cell_type": "code",
   "execution_count": 120,
   "outputs": [],
   "source": [],
   "metadata": {
    "collapsed": false,
    "pycharm": {
     "name": "#%%\n"
    }
   }
  },
  {
   "cell_type": "code",
   "execution_count": 121,
   "outputs": [
    {
     "data": {
      "text/plain": "<HDF5 dataset \"0d\": shape (), type \"<i4\">"
     },
     "execution_count": 121,
     "metadata": {},
     "output_type": "execute_result"
    }
   ],
   "source": [
    "dset"
   ],
   "metadata": {
    "collapsed": false,
    "pycharm": {
     "name": "#%%\n"
    }
   }
  },
  {
   "cell_type": "code",
   "execution_count": 122,
   "outputs": [],
   "source": [
    "row = np.arange(10).reshape(5,2)"
   ],
   "metadata": {
    "collapsed": false,
    "pycharm": {
     "name": "#%%\n"
    }
   }
  },
  {
   "cell_type": "code",
   "execution_count": 123,
   "outputs": [
    {
     "data": {
      "text/plain": "array([[0, 1],\n       [4, 5],\n       [8, 9]])"
     },
     "execution_count": 123,
     "metadata": {},
     "output_type": "execute_result"
    }
   ],
   "source": [
    "row[[0,2,4]]"
   ],
   "metadata": {
    "collapsed": false,
    "pycharm": {
     "name": "#%%\n"
    }
   }
  },
  {
   "cell_type": "code",
   "execution_count": 124,
   "outputs": [],
   "source": [
    "bins = np.linspace(-5,5,10)\n",
    "counts = np.zeros_like(bins)"
   ],
   "metadata": {
    "collapsed": false,
    "pycharm": {
     "name": "#%%\n"
    }
   }
  },
  {
   "cell_type": "markdown",
   "source": [
    "## Automatic Broadcasting"
   ],
   "metadata": {
    "collapsed": false,
    "pycharm": {
     "name": "#%% md\n"
    }
   }
  },
  {
   "cell_type": "markdown",
   "source": [
    "do instead of this:\n",
    "```\n",
    "# dset.shape  (100,1000)\n",
    "data = dset[0, :]\n",
    "for ix in xrange(100):\n",
    "    dset[ix, :] = data\n",
    "        ....\n",
    "```\n",
    "this:\n",
    "```\n",
    "dset[:,:] = dset[0, :] # since the last dim match it gets broadcasted\n",
    "```"
   ],
   "metadata": {
    "collapsed": false,
    "pycharm": {
     "name": "#%% md\n"
    }
   }
  },
  {
   "cell_type": "markdown",
   "source": [
    "## Reading directly into existing arrays|"
   ],
   "metadata": {
    "collapsed": false,
    "pycharm": {
     "name": "#%% md\n"
    }
   }
  },
  {
   "cell_type": "code",
   "execution_count": 129,
   "outputs": [],
   "source": [
    "dset = f['my dataset']\n",
    "out = np.empty((100,2), dtype=np.float_)\n",
    "dset.read_direct(out, source_sel=np.s_[0, :], dest_sel=np.s_[10, :])"
   ],
   "metadata": {
    "collapsed": false,
    "pycharm": {
     "name": "#%%\n"
    }
   }
  },
  {
   "cell_type": "code",
   "execution_count": 130,
   "outputs": [
    {
     "data": {
      "text/plain": "h5py._hl.dataset.Dataset"
     },
     "execution_count": 130,
     "metadata": {},
     "output_type": "execute_result"
    }
   ],
   "source": [
    "type(dset)\n"
   ],
   "metadata": {
    "collapsed": false,
    "pycharm": {
     "name": "#%%\n"
    }
   }
  },
  {
   "cell_type": "code",
   "execution_count": 131,
   "outputs": [],
   "source": [
    "np.s_??"
   ],
   "metadata": {
    "collapsed": false,
    "pycharm": {
     "name": "#%%\n"
    }
   }
  },
  {
   "cell_type": "code",
   "execution_count": 132,
   "outputs": [
    {
     "data": {
      "text/plain": "(2, slice(None, None, None))"
     },
     "execution_count": 132,
     "metadata": {},
     "output_type": "execute_result"
    }
   ],
   "source": [
    "np.s_[2,:]"
   ],
   "metadata": {
    "collapsed": false,
    "pycharm": {
     "name": "#%%\n"
    }
   }
  },
  {
   "cell_type": "code",
   "execution_count": 133,
   "outputs": [
    {
     "data": {
      "text/plain": "1699909930864"
     },
     "execution_count": 133,
     "metadata": {},
     "output_type": "execute_result"
    }
   ],
   "source": [
    "id(dset)"
   ],
   "metadata": {
    "collapsed": false,
    "pycharm": {
     "name": "#%%\n"
    }
   }
  },
  {
   "cell_type": "code",
   "execution_count": 134,
   "outputs": [
    {
     "data": {
      "text/plain": "1699912864272"
     },
     "execution_count": 134,
     "metadata": {},
     "output_type": "execute_result"
    }
   ],
   "source": [
    "id(f[\"my dataset\"])"
   ],
   "metadata": {
    "collapsed": false,
    "pycharm": {
     "name": "#%%\n"
    }
   }
  },
  {
   "cell_type": "code",
   "execution_count": 135,
   "outputs": [
    {
     "data": {
      "text/plain": "array([[8.39868782e-312, 8.39868782e-312],\n       [8.39868780e-312, 8.39868780e-312],\n       [8.39868780e-312, 8.39868780e-312],\n       [8.39868783e-312, 8.39868783e-312],\n       [8.39868783e-312, 8.39868780e-312],\n       [8.39868781e-312, 8.39868780e-312],\n       [8.39868780e-312, 8.39868753e-312],\n       [8.39868755e-312, 8.39868752e-312],\n       [8.39868753e-312, 8.39868752e-312],\n       [8.39868750e-312, 8.39868752e-312],\n       [1.00000000e+000, 1.00000000e+000],\n       [8.39868751e-312, 8.39868752e-312],\n       [8.39868750e-312, 8.39868751e-312],\n       [8.39868749e-312, 8.39868752e-312],\n       [8.39868750e-312, 8.39868751e-312],\n       [8.39868750e-312, 8.39868751e-312],\n       [8.39868752e-312, 8.39868753e-312],\n       [8.39868750e-312, 8.39868751e-312],\n       [8.39868749e-312, 8.39868753e-312],\n       [8.39868751e-312, 8.39868753e-312],\n       [8.39868752e-312, 8.39868750e-312],\n       [8.39868750e-312, 8.39868749e-312],\n       [8.39868752e-312, 8.39868751e-312],\n       [8.39868753e-312, 8.39868752e-312],\n       [8.39868753e-312, 8.39868753e-312],\n       [8.39868749e-312, 8.39868750e-312],\n       [8.39868750e-312, 8.39868755e-312],\n       [8.39868755e-312, 8.39868755e-312],\n       [8.39868755e-312, 8.39868754e-312],\n       [8.39868754e-312, 8.39868753e-312],\n       [8.39868752e-312, 8.39868751e-312],\n       [8.39868750e-312, 8.39868754e-312],\n       [8.39868749e-312, 8.39868753e-312],\n       [8.39868750e-312, 8.39868754e-312],\n       [8.39868755e-312, 8.39868752e-312],\n       [8.39868754e-312, 8.39868754e-312],\n       [8.39868755e-312, 8.39868754e-312],\n       [8.39868754e-312, 8.39868755e-312],\n       [8.39868752e-312, 8.39868754e-312],\n       [8.39868755e-312, 8.39868753e-312],\n       [8.39868752e-312, 8.39868697e-312],\n       [8.39868697e-312, 8.39868694e-312],\n       [8.39868698e-312, 8.39868697e-312],\n       [8.39868698e-312, 8.39868697e-312],\n       [8.39868697e-312, 8.39868833e-312],\n       [8.39868830e-312, 8.39868836e-312],\n       [8.39868836e-312, 8.39868830e-312],\n       [8.39868831e-312, 8.39868828e-312],\n       [8.39868828e-312, 8.39868829e-312],\n       [8.39868829e-312, 8.39868829e-312],\n       [8.39868829e-312, 8.39868829e-312],\n       [8.39868829e-312, 8.39868829e-312],\n       [8.39868829e-312, 8.39868829e-312],\n       [8.39868829e-312, 8.39868829e-312],\n       [8.39868830e-312, 8.39868830e-312],\n       [8.39868830e-312, 8.39868830e-312],\n       [8.39868830e-312, 8.39868830e-312],\n       [8.39868830e-312, 8.39868831e-312],\n       [8.39868831e-312, 8.39868831e-312],\n       [8.39868831e-312, 8.39868831e-312],\n       [8.39868831e-312, 8.39868831e-312],\n       [8.39868831e-312, 8.39868832e-312],\n       [8.39868832e-312, 8.39868832e-312],\n       [8.39868832e-312, 8.39868832e-312],\n       [8.39868832e-312, 8.39868832e-312],\n       [8.39868834e-312, 8.39868834e-312],\n       [8.39868834e-312, 8.39868834e-312],\n       [8.39868834e-312, 8.39868835e-312],\n       [8.39868835e-312, 8.39868835e-312],\n       [8.39868835e-312, 8.39868835e-312],\n       [8.39868835e-312, 8.39868835e-312],\n       [8.39868835e-312, 8.39868835e-312],\n       [8.39868835e-312, 8.39868835e-312],\n       [8.39868836e-312, 8.39868836e-312],\n       [8.39867095e-312, 8.39867088e-312],\n       [8.39867094e-312, 8.39867094e-312],\n       [8.39867093e-312, 8.39867088e-312],\n       [8.39867088e-312, 8.39867094e-312],\n       [8.39867095e-312, 8.39867089e-312],\n       [8.39867088e-312, 8.39867094e-312],\n       [8.39867088e-312, 8.39868890e-312],\n       [8.39868890e-312, 8.39868890e-312],\n       [8.39868885e-312, 8.39868885e-312],\n       [8.39868885e-312, 8.39868886e-312],\n       [8.39868886e-312, 8.39868886e-312],\n       [8.39868886e-312, 8.39868886e-312],\n       [8.39868886e-312, 8.39868886e-312],\n       [8.39868886e-312, 8.39868886e-312],\n       [8.39868886e-312, 8.39868886e-312],\n       [8.39868887e-312, 8.39868887e-312],\n       [8.39868887e-312, 8.39868887e-312],\n       [8.39868887e-312, 8.39868887e-312],\n       [8.39868887e-312, 8.39868887e-312],\n       [8.39868887e-312, 8.39868887e-312],\n       [8.39868887e-312, 8.39868888e-312],\n       [8.39868888e-312, 8.39868888e-312],\n       [8.39868888e-312, 8.39868888e-312],\n       [8.39868888e-312, 8.39868888e-312],\n       [8.39868888e-312, 8.39868888e-312],\n       [8.39868888e-312, 8.39868889e-312]])"
     },
     "execution_count": 135,
     "metadata": {},
     "output_type": "execute_result"
    }
   ],
   "source": [
    "out.view()"
   ],
   "metadata": {
    "collapsed": false,
    "pycharm": {
     "name": "#%%\n"
    }
   }
  },
  {
   "cell_type": "code",
   "execution_count": 136,
   "outputs": [],
   "source": [
    "x = np.array([(1, 2)], dtype=[('a', np.int8), ('b', np.int8)])"
   ],
   "metadata": {
    "collapsed": false,
    "pycharm": {
     "name": "#%%\n"
    }
   }
  },
  {
   "cell_type": "code",
   "execution_count": 137,
   "outputs": [],
   "source": [
    "y = x.view(dtype=np.int16, type=np.matrix)"
   ],
   "metadata": {
    "collapsed": false,
    "pycharm": {
     "name": "#%%\n"
    }
   }
  },
  {
   "cell_type": "code",
   "execution_count": 138,
   "outputs": [
    {
     "data": {
      "text/plain": "matrix([[513]], dtype=int16)"
     },
     "execution_count": 138,
     "metadata": {},
     "output_type": "execute_result"
    }
   ],
   "source": [
    "y"
   ],
   "metadata": {
    "collapsed": false,
    "pycharm": {
     "name": "#%%\n"
    }
   }
  },
  {
   "cell_type": "code",
   "execution_count": 139,
   "outputs": [
    {
     "data": {
      "text/plain": "matrix([[513]], dtype=int16)"
     },
     "execution_count": 139,
     "metadata": {},
     "output_type": "execute_result"
    }
   ],
   "source": [
    "y.view().reshape(-1,1)"
   ],
   "metadata": {
    "collapsed": false,
    "pycharm": {
     "name": "#%%\n"
    }
   }
  },
  {
   "cell_type": "markdown",
   "source": [
    "## Chunked storage"
   ],
   "metadata": {
    "collapsed": false,
    "pycharm": {
     "name": "#%% md\n"
    }
   }
  },
  {
   "cell_type": "code",
   "execution_count": 140,
   "outputs": [],
   "source": [
    "dset = f.create_dataset('chunked', (100,480,640), dtype='i1', chunks=(1,64,64))"
   ],
   "metadata": {
    "collapsed": false,
    "pycharm": {
     "name": "#%%\n"
    }
   }
  },
  {
   "cell_type": "code",
   "execution_count": 141,
   "outputs": [],
   "source": [
    "#for data in dset.iter_chunks():\n",
    "#    print(data)"
   ],
   "metadata": {
    "collapsed": false,
    "pycharm": {
     "name": "#%%\n"
    }
   }
  },
  {
   "cell_type": "code",
   "execution_count": 142,
   "outputs": [
    {
     "data": {
      "text/plain": "(100, 480, 640)"
     },
     "execution_count": 142,
     "metadata": {},
     "output_type": "execute_result"
    }
   ],
   "source": [
    "dset.__getattribute__('shape')"
   ],
   "metadata": {
    "collapsed": false,
    "pycharm": {
     "name": "#%%\n"
    }
   }
  },
  {
   "cell_type": "markdown",
   "source": [
    "## Root group and subgroups"
   ],
   "metadata": {
    "collapsed": false,
    "pycharm": {
     "name": "#%% md\n"
    }
   }
  },
  {
   "cell_type": "code",
   "execution_count": 145,
   "outputs": [],
   "source": [
    "subgroup = f.create_group(\"SubGroup\")"
   ],
   "metadata": {
    "collapsed": false,
    "pycharm": {
     "name": "#%%\n"
    }
   }
  },
  {
   "cell_type": "code",
   "execution_count": 148,
   "outputs": [
    {
     "data": {
      "text/plain": "'/SubGroup'"
     },
     "execution_count": 148,
     "metadata": {},
     "output_type": "execute_result"
    }
   ],
   "source": [
    "subgroup.name"
   ],
   "metadata": {
    "collapsed": false,
    "pycharm": {
     "name": "#%%\n"
    }
   }
  },
  {
   "cell_type": "code",
   "execution_count": 149,
   "outputs": [],
   "source": [
    "subsubgroup = subgroup.create_group('AnotherGroup')"
   ],
   "metadata": {
    "collapsed": false,
    "pycharm": {
     "name": "#%%\n"
    }
   }
  },
  {
   "cell_type": "code",
   "execution_count": 179,
   "outputs": [
    {
     "data": {
      "text/plain": "'/SubGroup/AnotherGroup'"
     },
     "execution_count": 179,
     "metadata": {},
     "output_type": "execute_result"
    }
   ],
   "source": [
    "subsubgroup.name"
   ],
   "metadata": {
    "collapsed": false,
    "pycharm": {
     "name": "#%%\n"
    }
   }
  },
  {
   "cell_type": "code",
   "execution_count": 151,
   "outputs": [],
   "source": [
    "out = subgroup.create_group('/onemore/underit/andunderit')"
   ],
   "metadata": {
    "collapsed": false,
    "pycharm": {
     "name": "#%%\n"
    }
   }
  },
  {
   "cell_type": "code",
   "execution_count": 153,
   "outputs": [],
   "source": [
    "out[\"tmp\"] = 5.0"
   ],
   "metadata": {
    "collapsed": false,
    "pycharm": {
     "name": "#%%\n"
    }
   }
  },
  {
   "cell_type": "code",
   "execution_count": 154,
   "outputs": [
    {
     "data": {
      "text/plain": "<HDF5 group \"/onemore/underit/andunderit\" (1 members)>"
     },
     "execution_count": 154,
     "metadata": {},
     "output_type": "execute_result"
    }
   ],
   "source": [
    "out"
   ],
   "metadata": {
    "collapsed": false,
    "pycharm": {
     "name": "#%%\n"
    }
   }
  },
  {
   "cell_type": "code",
   "execution_count": 166,
   "outputs": [
    {
     "data": {
      "text/plain": "True"
     },
     "execution_count": 166,
     "metadata": {},
     "output_type": "execute_result"
    }
   ],
   "source": [
    "out.file == f"
   ],
   "metadata": {
    "collapsed": false,
    "pycharm": {
     "name": "#%%\n"
    }
   }
  },
  {
   "cell_type": "code",
   "execution_count": 164,
   "outputs": [
    {
     "data": {
      "text/plain": "<HDF5 group \"/onemore/underit\" (1 members)>"
     },
     "execution_count": 164,
     "metadata": {},
     "output_type": "execute_result"
    }
   ],
   "source": [
    "out.parent"
   ],
   "metadata": {
    "collapsed": false,
    "pycharm": {
     "name": "#%%\n"
    }
   }
  },
  {
   "cell_type": "markdown",
   "source": [
    "## Links (there is a layer between group object and objects that are its members)"
   ],
   "metadata": {
    "collapsed": false,
    "pycharm": {
     "name": "#%% md\n"
    }
   }
  },
  {
   "cell_type": "markdown",
   "source": [
    "### hard link to a name created by assigning an object (|objects only have address).\n",
    "```subgroup = f.create_group(\"SubGroup\")```"
   ],
   "metadata": {
    "collapsed": false,
    "pycharm": {
     "name": "#%% md\n"
    }
   }
  },
  {
   "cell_type": "code",
   "execution_count": 168,
   "outputs": [
    {
     "data": {
      "text/plain": "'/SubGroup'"
     },
     "execution_count": 168,
     "metadata": {},
     "output_type": "execute_result"
    }
   ],
   "source": [
    "f[\"SubGroup\"].name"
   ],
   "metadata": {
    "collapsed": false,
    "pycharm": {
     "name": "#%%\n"
    }
   }
  },
  {
   "cell_type": "code",
   "execution_count": 171,
   "outputs": [
    {
     "ename": "OSError",
     "evalue": "Unable to create link (name already exists)",
     "output_type": "error",
     "traceback": [
      "\u001B[1;31m---------------------------------------------------------------------------\u001B[0m",
      "\u001B[1;31mOSError\u001B[0m                                   Traceback (most recent call last)",
      "Cell \u001B[1;32mIn[171], line 1\u001B[0m\n\u001B[1;32m----> 1\u001B[0m f[\u001B[38;5;124m\"\u001B[39m\u001B[38;5;124mlink2SubGroup\u001B[39m\u001B[38;5;124m\"\u001B[39m] \u001B[38;5;241m=\u001B[39m subgroup\n",
      "File \u001B[1;32mG:\\Vishnu\\Analysis\\TMS-TG\\conda-env\\Lib\\site-packages\\h5py\\_hl\\group.py:439\u001B[0m, in \u001B[0;36mGroup.__setitem__\u001B[1;34m(self, name, obj)\u001B[0m\n\u001B[0;32m    436\u001B[0m name, lcpl \u001B[38;5;241m=\u001B[39m \u001B[38;5;28mself\u001B[39m\u001B[38;5;241m.\u001B[39m_e(name, lcpl\u001B[38;5;241m=\u001B[39m\u001B[38;5;28;01mTrue\u001B[39;00m)\n\u001B[0;32m    438\u001B[0m \u001B[38;5;28;01mif\u001B[39;00m \u001B[38;5;28misinstance\u001B[39m(obj, HLObject):\n\u001B[1;32m--> 439\u001B[0m     \u001B[43mh5o\u001B[49m\u001B[38;5;241;43m.\u001B[39;49m\u001B[43mlink\u001B[49m\u001B[43m(\u001B[49m\u001B[43mobj\u001B[49m\u001B[38;5;241;43m.\u001B[39;49m\u001B[43mid\u001B[49m\u001B[43m,\u001B[49m\u001B[43m \u001B[49m\u001B[38;5;28;43mself\u001B[39;49m\u001B[38;5;241;43m.\u001B[39;49m\u001B[43mid\u001B[49m\u001B[43m,\u001B[49m\u001B[43m \u001B[49m\u001B[43mname\u001B[49m\u001B[43m,\u001B[49m\u001B[43m \u001B[49m\u001B[43mlcpl\u001B[49m\u001B[38;5;241;43m=\u001B[39;49m\u001B[43mlcpl\u001B[49m\u001B[43m,\u001B[49m\u001B[43m \u001B[49m\u001B[43mlapl\u001B[49m\u001B[38;5;241;43m=\u001B[39;49m\u001B[38;5;28;43mself\u001B[39;49m\u001B[38;5;241;43m.\u001B[39;49m\u001B[43m_lapl\u001B[49m\u001B[43m)\u001B[49m\n\u001B[0;32m    441\u001B[0m \u001B[38;5;28;01melif\u001B[39;00m \u001B[38;5;28misinstance\u001B[39m(obj, SoftLink):\n\u001B[0;32m    442\u001B[0m     \u001B[38;5;28mself\u001B[39m\u001B[38;5;241m.\u001B[39mid\u001B[38;5;241m.\u001B[39mlinks\u001B[38;5;241m.\u001B[39mcreate_soft(name, \u001B[38;5;28mself\u001B[39m\u001B[38;5;241m.\u001B[39m_e(obj\u001B[38;5;241m.\u001B[39mpath),\n\u001B[0;32m    443\u001B[0m                   lcpl\u001B[38;5;241m=\u001B[39mlcpl, lapl\u001B[38;5;241m=\u001B[39m\u001B[38;5;28mself\u001B[39m\u001B[38;5;241m.\u001B[39m_lapl)\n",
      "File \u001B[1;32mh5py\\_objects.pyx:54\u001B[0m, in \u001B[0;36mh5py._objects.with_phil.wrapper\u001B[1;34m()\u001B[0m\n",
      "File \u001B[1;32mh5py\\_objects.pyx:55\u001B[0m, in \u001B[0;36mh5py._objects.with_phil.wrapper\u001B[1;34m()\u001B[0m\n",
      "File \u001B[1;32mh5py\\h5o.pyx:202\u001B[0m, in \u001B[0;36mh5py.h5o.link\u001B[1;34m()\u001B[0m\n",
      "\u001B[1;31mOSError\u001B[0m: Unable to create link (name already exists)"
     ]
    }
   ],
   "source": [
    "f[\"link2SubGroup\"] = subgroup"
   ],
   "metadata": {
    "collapsed": false,
    "pycharm": {
     "name": "#%%\n"
    }
   }
  },
  {
   "cell_type": "code",
   "execution_count": 173,
   "outputs": [
    {
     "data": {
      "text/plain": "True"
     },
     "execution_count": 173,
     "metadata": {},
     "output_type": "execute_result"
    }
   ],
   "source": [
    "f[\"link2SubGroup\"] == f[\"SubGroup\"]"
   ],
   "metadata": {
    "collapsed": false,
    "pycharm": {
     "name": "#%%\n"
    }
   }
  },
  {
   "cell_type": "code",
   "execution_count": 175,
   "outputs": [
    {
     "name": "stdout",
     "output_type": "stream",
     "text": [
      "None\n"
     ]
    }
   ],
   "source": [
    "nona = f.create_group(None)\n",
    "print(nona.name)"
   ],
   "metadata": {
    "collapsed": false,
    "pycharm": {
     "name": "#%%\n"
    }
   }
  },
  {
   "cell_type": "code",
   "execution_count": 176,
   "outputs": [
    {
     "data": {
      "text/plain": "'/nona'"
     },
     "execution_count": 176,
     "metadata": {},
     "output_type": "execute_result"
    }
   ],
   "source": [
    "f['nona'] = nona\n",
    "nona.name"
   ],
   "metadata": {
    "collapsed": false,
    "pycharm": {
     "name": "#%%\n"
    }
   }
  },
  {
   "cell_type": "markdown",
   "source": [
    "### Free Space and Repacking\n",
    "When an object (for example, a large dataset) is deleted, the space it occupied on disk\n",
    "is reused for new objects like groups and datasets. However, at the time of writing, HDF5\n",
    "does not track such “free space” across file open/close cycles. So if you don’t end up\n",
    "reusing the space by the time you close the file, you may end up with a “hole” of unusable\n",
    "space in the file that can’t be reclaimed.\n",
    "```\n",
    ">>> del f['bigdata']\n",
    "\n",
    "$ h5repack bigfile.hdf5 out.hdf5\n",
    "```"
   ],
   "metadata": {
    "collapsed": false,
    "pycharm": {
     "name": "#%% md\n"
    }
   }
  },
  {
   "cell_type": "markdown",
   "source": [
    "### Soft link (stores the path to an object)"
   ],
   "metadata": {
    "collapsed": false,
    "pycharm": {
     "name": "#%% md\n"
    }
   }
  },
  {
   "cell_type": "code",
   "execution_count": 180,
   "outputs": [
    {
     "data": {
      "text/plain": "True"
     },
     "execution_count": 180,
     "metadata": {},
     "output_type": "execute_result"
    }
   ],
   "source": [
    "f['softlink'] = h5py.SoftLink('/SubGroup/AnotherGroup')\n",
    "f['softlink'] == f['SubGroup/AnotherGroup']"
   ],
   "metadata": {
    "collapsed": false,
    "pycharm": {
     "name": "#%%\n"
    }
   }
  },
  {
   "cell_type": "markdown",
   "source": [
    "if we move the dataset and\n",
    "replace it with something else, /softlink would then point to the new object:\n",
    "```\n",
    ">>> grp.move('dataset', 'new_dataset_name')\n",
    ">>> dset2 = grp.create_dataset('dataset', (50,))\n",
    ">>> f['softlink'] == dset\n",
    "False\n",
    ">>> f['softlink'] == dset2\n",
    "True\n",
    "```"
   ],
   "metadata": {
    "collapsed": false,
    "pycharm": {
     "name": "#%% md\n"
    }
   }
  },
  {
   "cell_type": "code",
   "execution_count": 200,
   "outputs": [],
   "source": [
    "tmp_dset = f.create_dataset('DoesntExist',(10,10))"
   ],
   "metadata": {
    "collapsed": false,
    "pycharm": {
     "name": "#%%\n"
    }
   }
  },
  {
   "cell_type": "code",
   "execution_count": 212,
   "outputs": [],
   "source": [
    "f['brokenSlink'] = h5py.SoftLink('/DoesntExist')"
   ],
   "metadata": {
    "collapsed": false,
    "pycharm": {
     "name": "#%%\n"
    }
   }
  },
  {
   "cell_type": "code",
   "execution_count": 213,
   "outputs": [],
   "source": [
    "del f['DoesntExist']"
   ],
   "metadata": {
    "collapsed": false,
    "pycharm": {
     "name": "#%%\n"
    }
   }
  },
  {
   "cell_type": "markdown",
   "source": [
    "### Create dataset when it doesn't exist, otherwise replace the current with new data (same size, and dtype restrictions apply)'"
   ],
   "metadata": {
    "collapsed": false,
    "pycharm": {
     "name": "#%% md\n"
    }
   }
  },
  {
   "cell_type": "code",
   "execution_count": 224,
   "outputs": [
    {
     "data": {
      "text/plain": "<HDF5 dataset \"1d\": shape (1,), type \"<i4\">"
     },
     "execution_count": 224,
     "metadata": {},
     "output_type": "execute_result"
    }
   ],
   "source": [
    "f.require_dataset('1d', shape=(1,), dtype=np.int32, data=np.random.random(1))"
   ],
   "metadata": {
    "collapsed": false,
    "pycharm": {
     "name": "#%%\n"
    }
   }
  },
  {
   "cell_type": "code",
   "execution_count": 221,
   "outputs": [
    {
     "data": {
      "text/plain": "dtype('int32')"
     },
     "execution_count": 221,
     "metadata": {},
     "output_type": "execute_result"
    }
   ],
   "source": [
    "f['1d'].dtype"
   ],
   "metadata": {
    "collapsed": false,
    "pycharm": {
     "name": "#%%\n"
    }
   }
  },
  {
   "cell_type": "code",
   "execution_count": 225,
   "outputs": [
    {
     "data": {
      "text/plain": "<KeysViewHDF5 ['0d', '1d', 'SubGroup', 'big dataset', 'brokenSlink', 'chunked', 'link2SubGroup', 'my dataset', 'nona', 'onemore', 'softlink', 'test1', 'test2']>"
     },
     "execution_count": 225,
     "metadata": {},
     "output_type": "execute_result"
    }
   ],
   "source": [
    "f.keys()"
   ],
   "metadata": {
    "collapsed": false,
    "pycharm": {
     "name": "#%%\n"
    }
   }
  },
  {
   "cell_type": "markdown",
   "source": [
    "### Iteration and containership"
   ],
   "metadata": {
    "collapsed": false,
    "pycharm": {
     "name": "#%% md\n"
    }
   }
  },
  {
   "cell_type": "code",
   "execution_count": 229,
   "outputs": [
    {
     "data": {
      "text/plain": "[('0d', <HDF5 dataset \"0d\": shape (), type \"<i4\">),\n ('1d', <HDF5 dataset \"1d\": shape (1,), type \"<i4\">),\n ('SubGroup', <HDF5 group \"/SubGroup\" (1 members)>),\n ('big dataset',\n  <HDF5 dataset \"big dataset\": shape (1073741824,), type \"<f8\">),\n ('brokenSlink', None),\n ('chunked', <HDF5 dataset \"chunked\": shape (100, 480, 640), type \"|i1\">),\n ('link2SubGroup', <HDF5 group \"/link2SubGroup\" (1 members)>),\n ('my dataset', <HDF5 dataset \"my dataset\": shape (5, 2), type \"<f8\">),\n ('nona', <HDF5 group \"/nona\" (0 members)>),\n ('onemore', <HDF5 group \"/onemore\" (1 members)>),\n ('softlink', <HDF5 group \"/softlink\" (0 members)>),\n ('test1', <HDF5 dataset \"test1\": shape (10, 10), type \"<f4\">),\n ('test2', <HDF5 dataset \"test2\": shape (10, 10), type \"<c16\">)]"
     },
     "execution_count": 229,
     "metadata": {},
     "output_type": "execute_result"
    }
   ],
   "source": [
    "[(x,y) for x,y in f.items()]"
   ],
   "metadata": {
    "collapsed": false,
    "pycharm": {
     "name": "#%%\n"
    }
   }
  },
  {
   "cell_type": "code",
   "execution_count": 263,
   "outputs": [],
   "source": [
    "mylist = []\n",
    "f.visit(mylist.append)"
   ],
   "metadata": {
    "collapsed": false,
    "pycharm": {
     "name": "#%%\n"
    }
   }
  },
  {
   "cell_type": "code",
   "execution_count": 273,
   "outputs": [],
   "source": [
    "mydict = {x:x for x in mylist}"
   ],
   "metadata": {
    "collapsed": false,
    "pycharm": {
     "name": "#%%\n"
    }
   }
  },
  {
   "cell_type": "code",
   "execution_count": 274,
   "outputs": [
    {
     "data": {
      "text/plain": "'onemore/underit'"
     },
     "execution_count": 274,
     "metadata": {},
     "output_type": "execute_result"
    }
   ],
   "source": [
    "mydict['onemore/underit']"
   ],
   "metadata": {
    "collapsed": false,
    "pycharm": {
     "name": "#%%\n"
    }
   }
  },
  {
   "cell_type": "code",
   "execution_count": 299,
   "outputs": [
    {
     "data": {
      "text/plain": "h5py._hl.group.Group"
     },
     "execution_count": 299,
     "metadata": {},
     "output_type": "execute_result"
    }
   ],
   "source": [
    "f.get('SubGroup/AnotherGroup',getclass=True)"
   ],
   "metadata": {
    "collapsed": false,
    "pycharm": {
     "name": "#%%\n"
    }
   }
  },
  {
   "cell_type": "code",
   "execution_count": 302,
   "outputs": [
    {
     "data": {
      "text/plain": "True"
     },
     "execution_count": 302,
     "metadata": {},
     "output_type": "execute_result"
    }
   ],
   "source": [
    "isinstance(f['0d'], h5py.Dataset)"
   ],
   "metadata": {
    "collapsed": false,
    "pycharm": {
     "name": "#%%\n"
    }
   }
  },
  {
   "cell_type": "code",
   "execution_count": 294,
   "outputs": [
    {
     "name": "stdout",
     "output_type": "stream",
     "text": [
      "0d\n",
      "1d\n",
      "SubGroup\n",
      "big dataset\n",
      "brokenSlink\n",
      "chunked\n",
      "link2SubGroup\n",
      "my dataset\n",
      "nona\n",
      "onemore\n",
      "softlink\n",
      "test1\n",
      "test2\n"
     ]
    }
   ],
   "source": [
    "for name in f:\n",
    "    print(name)"
   ],
   "metadata": {
    "collapsed": false,
    "pycharm": {
     "name": "#%%\n"
    }
   }
  },
  {
   "cell_type": "code",
   "execution_count": null,
   "outputs": [],
   "source": [],
   "metadata": {
    "collapsed": false,
    "pycharm": {
     "name": "#%%\n"
    }
   }
  }
 ],
 "metadata": {
  "kernelspec": {
   "display_name": "Python 3",
   "language": "python",
   "name": "python3"
  },
  "language_info": {
   "codemirror_mode": {
    "name": "ipython",
    "version": 2
   },
   "file_extension": ".py",
   "mimetype": "text/x-python",
   "name": "python",
   "nbconvert_exporter": "python",
   "pygments_lexer": "ipython2",
   "version": "2.7.6"
  }
 },
 "nbformat": 4,
 "nbformat_minor": 0
}