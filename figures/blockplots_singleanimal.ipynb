{
 "cells": [
  {
   "cell_type": "markdown",
   "source": [
    "# For the selected animal, plot peri-stimulus activity of all its neurons and save the figure"
   ],
   "metadata": {
    "collapsed": false
   },
   "id": "f118c96e412fb6d9"
  },
  {
   "cell_type": "code",
   "execution_count": 7,
   "outputs": [
    {
     "name": "stderr",
     "output_type": "stream",
     "text": [
      "G:\\Vishnu\\Analysis\\tms-tg\\lib\\helper_tms_tg.py:245: UserWarning: Cannot check the MSO order in blocksinfo for epoch ('20210307', 'MC', 'L5', 'none', 'none', '1409') using mat-data information. Hence, using the MSO order in blocksinfo as it is; keep in mind that the source of this MSO order contained in infofile has to match the true recording MSO order, otherwise wrong MSO will be associated to epochs [Katastrophe].\n",
      "  warnings.warn(f'Cannot check the MSO order in blocksinfo for epoch {epochIndex} using mat-data information.'\n",
      "G:\\Vishnu\\Analysis\\tms-tg\\lib\\helper_tms_tg.py:245: UserWarning: Cannot check the MSO order in blocksinfo for epoch ('20210307', 'MC', 'L5', 'none', 'none', '1410') using mat-data information. Hence, using the MSO order in blocksinfo as it is; keep in mind that the source of this MSO order contained in infofile has to match the true recording MSO order, otherwise wrong MSO will be associated to epochs [Katastrophe].\n",
      "  warnings.warn(f'Cannot check the MSO order in blocksinfo for epoch {epochIndex} using mat-data information.'\n",
      "G:\\Vishnu\\Analysis\\tms-tg\\lib\\helper_tms_tg.py:245: UserWarning: Cannot check the MSO order in blocksinfo for epoch ('20210307', 'MC', 'L5', 'none', 'none', '1411') using mat-data information. Hence, using the MSO order in blocksinfo as it is; keep in mind that the source of this MSO order contained in infofile has to match the true recording MSO order, otherwise wrong MSO will be associated to epochs [Katastrophe].\n",
      "  warnings.warn(f'Cannot check the MSO order in blocksinfo for epoch {epochIndex} using mat-data information.'\n",
      "G:\\Vishnu\\Analysis\\tms-tg\\lib\\helper_tms_tg.py:245: UserWarning: Cannot check the MSO order in blocksinfo for epoch ('20210307', 'MC', 'L5', 'none', 'none', '1412') using mat-data information. Hence, using the MSO order in blocksinfo as it is; keep in mind that the source of this MSO order contained in infofile has to match the true recording MSO order, otherwise wrong MSO will be associated to epochs [Katastrophe].\n",
      "  warnings.warn(f'Cannot check the MSO order in blocksinfo for epoch {epochIndex} using mat-data information.'\n"
     ]
    }
   ],
   "source": [
    "import numpy as np\n",
    "import numba as nb\n",
    "import matplotlib.pyplot as plt\n",
    "import pandas as pd\n",
    "import math\n",
    "\n",
    "from tms_tg import TMSTG, EPOCHISOLATORS\n",
    "\n",
    "# Setting the number of threads for Numba\n",
    "nb.set_num_threads(nb.config.NUMBA_NUM_THREADS)\n",
    "\n",
    "# file containing the path to data location of a particular animal\n",
    "animalList = r'G:\\Vishnu\\data\\animalList\\animalList.xlsx'\n",
    "\n",
    "# Instantiate a TMSTG object using this file\n",
    "tms = TMSTG.load(animalList)\n"
   ],
   "metadata": {
    "collapsed": false,
    "ExecuteTime": {
     "end_time": "2024-11-16T10:15:10.072040400Z",
     "start_time": "2024-11-16T10:15:09.536466500Z"
    }
   },
   "id": "initial_id"
  },
  {
   "cell_type": "code",
   "execution_count": 8,
   "outputs": [
    {
     "name": "stdout",
     "output_type": "stream",
     "text": [
      "analysis_params set to:  {'selectionParams': {'Epoch': {'Animal': ('20210307',), 'Region': ('MC',), 'Layer': ('L5',), 'CoilHemVsRecHem': None, 'Mov': None, 'Depth': ('1409',)}}, 'TMSArtifactParams': {'timeWin': (-0.3, 0.5)}, 'peristimParams': {'smoothingParams': {'win': 'gaussian', 'width': 1.5, 'overlap': 0.3333333333333333}, 'timeWin': (-50.0, 100.0), 'trigger': 'TMS', 'baselinetimeWin': (-50.0, -1.0)}}\n",
      "----------------------------\n",
      "compute_firingrate runs...........\n",
      "compute_firingrate runs...........\n",
      "analysis_params set to:  {'selectionParams': {'Epoch': {'Animal': ('20210307',), 'Region': ('MC',), 'Layer': ('L5',), 'CoilHemVsRecHem': None, 'Mov': None, 'Depth': ('1410',)}}, 'TMSArtifactParams': {'timeWin': (-0.3, 0.5)}, 'peristimParams': {'smoothingParams': {'win': 'gaussian', 'width': 1.5, 'overlap': 0.3333333333333333}, 'timeWin': (-50.0, 100.0), 'trigger': 'TMS', 'baselinetimeWin': (-50.0, -1.0)}}\n",
      "----------------------------\n",
      "compute_firingrate runs...........\n",
      "compute_firingrate runs...........\n",
      "analysis_params set to:  {'selectionParams': {'Epoch': {'Animal': ('20210307',), 'Region': ('MC',), 'Layer': ('L5',), 'CoilHemVsRecHem': None, 'Mov': None, 'Depth': ('1411',)}}, 'TMSArtifactParams': {'timeWin': (-0.3, 0.5)}, 'peristimParams': {'smoothingParams': {'win': 'gaussian', 'width': 1.5, 'overlap': 0.3333333333333333}, 'timeWin': (-50.0, 100.0), 'trigger': 'TMS', 'baselinetimeWin': (-50.0, -1.0)}}\n",
      "----------------------------\n",
      "compute_firingrate runs...........\n",
      "compute_firingrate runs...........\n",
      "analysis_params set to:  {'selectionParams': {'Epoch': {'Animal': ('20210307',), 'Region': ('MC',), 'Layer': ('L5',), 'CoilHemVsRecHem': None, 'Mov': None, 'Depth': ('1412',)}}, 'TMSArtifactParams': {'timeWin': (-0.3, 0.5)}, 'peristimParams': {'smoothingParams': {'win': 'gaussian', 'width': 1.5, 'overlap': 0.3333333333333333}, 'timeWin': (-50.0, 100.0), 'trigger': 'TMS', 'baselinetimeWin': (-50.0, -1.0)}}\n",
      "----------------------------\n",
      "compute_firingrate runs...........\n",
      "compute_firingrate runs...........\n"
     ]
    }
   ],
   "source": [
    "# Get the directory name containing data for this particular animal\n",
    "dirname = pd.read_excel(animalList).dropna().loc[0, 'Folder']\n",
    "\n",
    "# Get unique blocks from blocks information\n",
    "blocks = tms.blocksinfo.index.unique()\n",
    "\n",
    "# Iterate over each block\n",
    "for block in blocks:\n",
    "    # Replace 'none' with None in the block list\n",
    "    block = [None if item == 'none' else item for item in block]\n",
    "    \n",
    "    # Set analysis parameters for selecting all blocks\n",
    "    tms.analysis_params = {'selectionParams': {'Epoch': dict(zip(EPOCHISOLATORS, block)), }}\n",
    "    \n",
    "    # Calculate average firing rate activity around the stimulus\n",
    "    meanPSFR, t, meanBaselineFR, _ = tms.avg_FR_per_neuron(squeezeDim=False)\n",
    "    \n",
    "    # Get maximum firing rate for use in y-axis limits\n",
    "    maxFR = np.max(meanPSFR)\n",
    "    \n",
    "    # Filter blocks and get selected blocks and their indices\n",
    "    selectBlocks, selectBlocksIdx = tms.filter_blocks\n",
    "    \n",
    "    # Define the layout (number of rows and columns) for subplots\n",
    "    numRows = 12\n",
    "    numCols = math.ceil(len(meanPSFR) / numRows)\n",
    "    \n",
    "    # Create a figure and subplots\n",
    "    fig, axes = plt.subplots(min(numRows, len(meanPSFR)), numCols, figsize=(12, 10))\n",
    "    fig.suptitle(block)  # Set title for the figure\n",
    "    \n",
    "    # Iterate over each neuron\n",
    "    for index in range(len(meanPSFR)):\n",
    "        row = index % numRows\n",
    "        col = index // numRows\n",
    "        if len(meanPSFR) == 1 and numCols == 1:\n",
    "            ax = axes\n",
    "        elif numCols == 1:\n",
    "            ax = axes[row]\n",
    "        else:\n",
    "            ax = axes[row][col]\n",
    "        \n",
    "        # Plot mean PSFR for the neuron\n",
    "        ax.plot(t, meanPSFR[index].squeeze())\n",
    "        ax.set_ylabel('MT-\\n' + str(selectBlocks.iloc[index, 1]), fontsize=10)  # Set y-axis label\n",
    "        ax.set_ylim(0, maxFR)  # Set y-axis limits\n",
    "        \n",
    "        # Set title for the subplot based on block information\n",
    "        if any(boolIndex := pd.Series(selectBlocks.columns).str.match('Skin-Injection')):\n",
    "            ax.set_title(selectBlocks.iloc[index, :].loc[boolIndex.values].item())\n",
    "        \n",
    "        # Add legend for the subplot\n",
    "        if index == 0:\n",
    "            ax.legend(['Neuron - ' + str(item + 1) for item in range(meanPSFR[index].shape[2])])\n",
    "    \n",
    "    # Save the figure\n",
    "    plt.savefig(dirname + '\\\\Figures\\\\' + str(block) + '.jpg', dpi='figure', format='jpeg')\n",
    "    plt.close()  # Close the figure to release memory\n",
    "\n"
   ],
   "metadata": {
    "collapsed": false,
    "ExecuteTime": {
     "end_time": "2024-11-16T10:27:25.095491800Z",
     "start_time": "2024-11-16T10:15:13.397921300Z"
    }
   },
   "id": "46849e26f2dee5eb"
  },
  {
   "cell_type": "code",
   "execution_count": 28,
   "outputs": [
    {
     "data": {
      "text/plain": "                                                  MSO    MT  no. of Trigs  \\\nAnimal   Region Layer CoilHemVsRecHem Mov  Depth                            \n20170212 MC     L23   none            none 454      64  0.8            50   \n                                           454      69  0.9           100   \n                                           454       0  0.0            50   \n                                           454      76  1.0           100   \n                                           454      83  1.1           100   \n                                           454      92  1.2           138   \n                L4    none            none 752      71  0.9            50   \n                                           752      77  1.0           100   \n                                           752      82  1.1            50   \n                                           752      92  1.2           100   \n                L5    none            none 1214     64  0.8            50   \n                                           1214     69  0.9           100   \n                                           1214      0  0.0            50   \n                                           1214     76  1.0           149   \n                                           1214     85  1.1            46   \n                                           1215     71  0.9            50   \n                                           1215     77  1.0           100   \n                                           1215     82  1.1           100   \n                                           1215     91  1.2           150   \n\n                                                  Stimpulses StimHem CoilDir  \\\nAnimal   Region Layer CoilHemVsRecHem Mov  Depth                               \n20170212 MC     L23   none            none 454            50    none      ML   \n                                           454           100    none      ML   \n                                           454            50    none      ML   \n                                           454           100    none      ML   \n                                           454            90    none      ML   \n                                           454           130    none      ML   \n                L4    none            none 752            50    none      ML   \n                                           752           100    none      ML   \n                                           752            50    none      ML   \n                                           752            75    none      ML   \n                L5    none            none 1214           50    none      ML   \n                                           1214          100    none      ML   \n                                           1214           50    none      ML   \n                                           1214          145    none      ML   \n                                           1214           45    none      ML   \n                                           1215           50    none      ML   \n                                           1215          100    none      ML   \n                                           1215           66    none      ML   \n                                           1215           94    none      ML   \n\n                                                 TG-Injection  RecArea   \\\nAnimal   Region Layer CoilHemVsRecHem Mov  Depth                          \n20170212 MC     L23   none            none 454              No       MC   \n                                           454              No       MC   \n                                           454              No       MC   \n                                           454              No       MC   \n                                           454              No       MC   \n                                           454              No       MC   \n                L4    none            none 752              No       MC   \n                                           752              No       MC   \n                                           752              No       MC   \n                                           752              No       MC   \n                L5    none            none 1214             No       MC   \n                                           1214             No       MC   \n                                           1214             No       MC   \n                                           1214             No       MC   \n                                           1214             No       MC   \n                                           1215             No       MC   \n                                           1215             No       MC   \n                                           1215             No       MC   \n                                           1215             No       MC   \n\n                                                 RecHem  \\\nAnimal   Region Layer CoilHemVsRecHem Mov  Depth          \n20170212 MC     L23   none            none 454     none   \n                                           454     none   \n                                           454     none   \n                                           454     none   \n                                           454     none   \n                                           454     none   \n                L4    none            none 752     none   \n                                           752     none   \n                                           752     none   \n                                           752     none   \n                L5    none            none 1214    none   \n                                           1214    none   \n                                           1214    none   \n                                           1214    none   \n                                           1214    none   \n                                           1215    none   \n                                           1215    none   \n                                           1215    none   \n                                           1215    none   \n\n                                                                                           Filename  \\\nAnimal   Region Layer CoilHemVsRecHem Mov  Depth                                                      \n20170212 MC     L23   none            none 454                             02022017_454µm_64mso.mcd   \n                                           454    02022017_454µm_67mso.mcd,02022017_454µm_71mso.mcd   \n                                           454                    02022017_454µm_67mso_baseline.mcd   \n                                           454    02022017_454µm_75mso.mcd,02022017_454µm_78mso.mcd   \n                                           454    02022017_454µm_82mso.mcd,02022017_454µm_85mso.mcd   \n                                           454    02022017_454µm_90mso0001.mcd,02022017_454µm_94...   \n                L4    none            none 752                             02022017_752µm_71mso.mcd   \n                                           752    02022017_752µm_76mso.mcd,02022017_752µm_78mso.mcd   \n                                           752                             02022017_752µm_82mso.mcd   \n                                           752    02022017_752µm_90mso.mcd,02022017_752µm_94mso.mcd   \n                L5    none            none 1214                           02022017_1214µm_64mso.mcd   \n                                           1214   02022017_1214µm_67mso.mcd,02022017_1214µm_71ms...   \n                                           1214                  02022017_1214µm_71mso_baseline.mcd   \n                                           1214   02022017_1214µm_75mso.mcd,02022017_1214µm_75ms...   \n                                           1214                           02022017_1214µm_85mso.mcd   \n                                           1215                       02022017_1214µm_71mso0001.mcd   \n                                           1215   02022017_1214µm_76mso.mcd,02022017_1214µm_78ms...   \n                                           1215   02022017_1214µm_82mso0001.mcd,02022017_1214µm_...   \n                                           1215   02022017_1214µm_90mso.mcd,02022017_1214µm_90ms...   \n\n                                                                                           Queries   \\\nAnimal   Region Layer CoilHemVsRecHem Mov  Depth                                                      \n20170212 MC     L23   none            none 454        [1.Confirm MT for the whole file, 78 for now]   \n                                           454    [2.1st block missing mcd file but correspondin...   \n                                           454                                               [none]   \n                                           454                                         [none, none]   \n                                           454                                         [none, none]   \n                                           454                                   [none, none, none]   \n                L4    none            none 752                                               [none]   \n                                           752                                         [none, none]   \n                                           752                                               [none]   \n                                           752                                         [none, none]   \n                L5    none            none 1214                                              [none]   \n                                           1214                                        [none, none]   \n                                           1214                                              [none]   \n                                           1214                                  [none, none, none]   \n                                           1214                                              [none]   \n                                           1215                                              [none]   \n                                           1215                                        [none, none]   \n                                           1215                                        [none, none]   \n                                           1215                                  [none, none, none]   \n\n                                                  Depth_int Movement  \\\nAnimal   Region Layer CoilHemVsRecHem Mov  Depth                       \n20170212 MC     L23   none            none 454          454     none   \n                                           454          454     none   \n                                           454          454     none   \n                                           454          454     none   \n                                           454          454     none   \n                                           454          454     none   \n                L4    none            none 752          752     none   \n                                           752          752     none   \n                                           752          752     none   \n                                           752          752     none   \n                L5    none            none 1214        1214     none   \n                                           1214        1214     none   \n                                           1214        1214     none   \n                                           1214        1214     none   \n                                           1214        1214     none   \n                                           1215        1215     none   \n                                           1215        1215     none   \n                                           1215        1215     none   \n                                           1215        1215     none   \n\n                                                                                          MSO_order  \\\nAnimal   Region Layer CoilHemVsRecHem Mov  Depth                                                      \n20170212 MC     L23   none            none 454       MSO_order  MSO   no. of Trigs  Stimpulses\n0...   \n                                           454       MSO_order  MSO   no. of Trigs  Stimpulses\n0...   \n                                           454       MSO_order  MSO   no. of Trigs  Stimpulses\n0...   \n                                           454       MSO_order  MSO   no. of Trigs  Stimpulses\n0...   \n                                           454       MSO_order  MSO   no. of Trigs  Stimpulses\n0...   \n                                           454       MSO_order  MSO   no. of Trigs  Stimpulses\n0...   \n                L4    none            none 752       MSO_order  MSO   no. of Trigs  Stimpulses\n0...   \n                                           752       MSO_order  MSO   no. of Trigs  Stimpulses\n0...   \n                                           752       MSO_order  MSO   no. of Trigs  Stimpulses\n0...   \n                                           752       MSO_order  MSO   no. of Trigs  Stimpulses\n0...   \n                L5    none            none 1214      MSO_order  MSO   no. of Trigs  Stimpulses\n0...   \n                                           1214      MSO_order  MSO   no. of Trigs  Stimpulses\n0...   \n                                           1214      MSO_order  MSO   no. of Trigs  Stimpulses\n0...   \n                                           1214      MSO_order  MSO   no. of Trigs  Stimpulses\n0...   \n                                           1214      MSO_order  MSO   no. of Trigs  Stimpulses\n0...   \n                                           1215      MSO_order  MSO   no. of Trigs  Stimpulses\n0...   \n                                           1215      MSO_order  MSO   no. of Trigs  Stimpulses\n0...   \n                                           1215      MSO_order  MSO   no. of Trigs  Stimpulses\n0...   \n                                           1215      MSO_order  MSO   no. of Trigs  Stimpulses\n0...   \n\n                                                                                        TrigIndices  \\\nAnimal   Region Layer CoilHemVsRecHem Mov  Depth                                                      \n20170212 MC     L23   none            none 454    [0, 1, 2, 3, 4, 5, 6, 7, 8, 9, 10, 11, 12, 13,...   \n                                           454    [50, 51, 52, 53, 54, 55, 56, 57, 58, 59, 60, 6...   \n                                           454    [100, 101, 102, 103, 104, 105, 106, 107, 108, ...   \n                                           454    [200, 201, 202, 203, 204, 205, 206, 207, 208, ...   \n                                           454    [300, 301, 302, 303, 304, 305, 306, 307, 308, ...   \n                                           454    [400, 401, 402, 403, 404, 405, 406, 407, 408, ...   \n                L4    none            none 752    [0, 1, 2, 3, 4, 5, 6, 7, 8, 9, 10, 11, 12, 13,...   \n                                           752    [50, 51, 52, 53, 54, 55, 56, 57, 58, 59, 60, 6...   \n                                           752    [150, 151, 152, 153, 154, 155, 156, 157, 158, ...   \n                                           752    [200, 201, 202, 203, 204, 205, 206, 207, 208, ...   \n                L5    none            none 1214   [0, 1, 2, 3, 4, 5, 6, 7, 8, 9, 10, 11, 12, 13,...   \n                                           1214   [50, 51, 52, 53, 54, 55, 56, 57, 58, 59, 60, 6...   \n                                           1214   [150, 151, 152, 153, 154, 155, 156, 157, 158, ...   \n                                           1214   [200, 201, 202, 203, 204, 205, 206, 207, 208, ...   \n                                           1214   [349, 350, 351, 352, 353, 354, 355, 356, 357, ...   \n                                           1215   [0, 1, 2, 3, 4, 5, 6, 7, 8, 9, 10, 11, 12, 13,...   \n                                           1215   [50, 51, 52, 53, 54, 55, 56, 57, 58, 59, 60, 6...   \n                                           1215   [150, 151, 152, 153, 154, 155, 156, 157, 158, ...   \n                                           1215   [250, 251, 252, 253, 254, 255, 256, 257, 258, ...   \n\n                                                            Comments  \\\nAnimal   Region Layer CoilHemVsRecHem Mov  Depth                       \n20170212 MC     L23   none            none 454                [none]   \n                                           454          [none, none]   \n                                           454                [none]   \n                                           454          [none, none]   \n                                           454          [none, none]   \n                                           454    [none, none, none]   \n                L4    none            none 752                [none]   \n                                           752          [none, none]   \n                                           752                [none]   \n                                           752          [none, none]   \n                L5    none            none 1214               [none]   \n                                           1214         [none, none]   \n                                           1214               [none]   \n                                           1214   [none, none, none]   \n                                           1214               [none]   \n                                           1215               [none]   \n                                           1215         [none, none]   \n                                           1215         [none, none]   \n                                           1215   [none, none, none]   \n\n                                                                Time  \\\nAnimal   Region Layer CoilHemVsRecHem Mov  Depth                       \n20170212 MC     L23   none            none 454                [none]   \n                                           454          [none, none]   \n                                           454                [none]   \n                                           454          [none, none]   \n                                           454          [none, none]   \n                                           454    [none, none, none]   \n                L4    none            none 752                [none]   \n                                           752          [none, none]   \n                                           752                [none]   \n                                           752          [none, none]   \n                L5    none            none 1214               [none]   \n                                           1214         [none, none]   \n                                           1214               [none]   \n                                           1214   [none, none, none]   \n                                           1214               [none]   \n                                           1215               [none]   \n                                           1215         [none, none]   \n                                           1215         [none, none]   \n                                           1215   [none, none, none]   \n\n                                                                                         psActivity  \nAnimal   Region Layer CoilHemVsRecHem Mov  Depth                                                     \n20170212 MC     L23   none            none 454    {('gaussian', 1.5, 0.3333333333333333, -50.0, ...  \n                                           454    {('gaussian', 1.5, 0.3333333333333333, -50.0, ...  \n                                           454    {('gaussian', 1.5, 0.3333333333333333, -50.0, ...  \n                                           454    {('gaussian', 1.5, 0.3333333333333333, -50.0, ...  \n                                           454    {('gaussian', 1.5, 0.3333333333333333, -50.0, ...  \n                                           454    {('gaussian', 1.5, 0.3333333333333333, -50.0, ...  \n                L4    none            none 752    {('gaussian', 1.5, 0.3333333333333333, -50.0, ...  \n                                           752    {('gaussian', 1.5, 0.3333333333333333, -50.0, ...  \n                                           752    {('gaussian', 1.5, 0.3333333333333333, -50.0, ...  \n                                           752    {('gaussian', 1.5, 0.3333333333333333, -50.0, ...  \n                L5    none            none 1214   {('gaussian', 1.5, 0.3333333333333333, -50.0, ...  \n                                           1214   {('gaussian', 1.5, 0.3333333333333333, -50.0, ...  \n                                           1214   {('gaussian', 1.5, 0.3333333333333333, -50.0, ...  \n                                           1214   {('gaussian', 1.5, 0.3333333333333333, -50.0, ...  \n                                           1214   {('gaussian', 1.5, 0.3333333333333333, -50.0, ...  \n                                           1215   {('gaussian', 1.5, 0.3333333333333333, -50.0, ...  \n                                           1215   {('gaussian', 1.5, 0.3333333333333333, -50.0, ...  \n                                           1215   {('gaussian', 1.5, 0.3333333333333333, -50.0, ...  \n                                           1215   {('gaussian', 1.5, 0.3333333333333333, -50.0, ...  ",
      "text/html": "<div>\n<style scoped>\n    .dataframe tbody tr th:only-of-type {\n        vertical-align: middle;\n    }\n\n    .dataframe tbody tr th {\n        vertical-align: top;\n    }\n\n    .dataframe thead th {\n        text-align: right;\n    }\n</style>\n<table border=\"1\" class=\"dataframe\">\n  <thead>\n    <tr style=\"text-align: right;\">\n      <th></th>\n      <th></th>\n      <th></th>\n      <th></th>\n      <th></th>\n      <th></th>\n      <th>MSO</th>\n      <th>MT</th>\n      <th>no. of Trigs</th>\n      <th>Stimpulses</th>\n      <th>StimHem</th>\n      <th>CoilDir</th>\n      <th>TG-Injection</th>\n      <th>RecArea</th>\n      <th>RecHem</th>\n      <th>Filename</th>\n      <th>Queries</th>\n      <th>Depth_int</th>\n      <th>Movement</th>\n      <th>MSO_order</th>\n      <th>TrigIndices</th>\n      <th>Comments</th>\n      <th>Time</th>\n      <th>psActivity</th>\n    </tr>\n    <tr>\n      <th>Animal</th>\n      <th>Region</th>\n      <th>Layer</th>\n      <th>CoilHemVsRecHem</th>\n      <th>Mov</th>\n      <th>Depth</th>\n      <th></th>\n      <th></th>\n      <th></th>\n      <th></th>\n      <th></th>\n      <th></th>\n      <th></th>\n      <th></th>\n      <th></th>\n      <th></th>\n      <th></th>\n      <th></th>\n      <th></th>\n      <th></th>\n      <th></th>\n      <th></th>\n      <th></th>\n      <th></th>\n    </tr>\n  </thead>\n  <tbody>\n    <tr>\n      <th rowspan=\"19\" valign=\"top\">20170212</th>\n      <th rowspan=\"19\" valign=\"top\">MC</th>\n      <th rowspan=\"6\" valign=\"top\">L23</th>\n      <th rowspan=\"6\" valign=\"top\">none</th>\n      <th rowspan=\"6\" valign=\"top\">none</th>\n      <th>454</th>\n      <td>64</td>\n      <td>0.8</td>\n      <td>50</td>\n      <td>50</td>\n      <td>none</td>\n      <td>ML</td>\n      <td>No</td>\n      <td>MC</td>\n      <td>none</td>\n      <td>02022017_454µm_64mso.mcd</td>\n      <td>[1.Confirm MT for the whole file, 78 for now]</td>\n      <td>454</td>\n      <td>none</td>\n      <td>MSO_order  MSO   no. of Trigs  Stimpulses\n0...</td>\n      <td>[0, 1, 2, 3, 4, 5, 6, 7, 8, 9, 10, 11, 12, 13,...</td>\n      <td>[none]</td>\n      <td>[none]</td>\n      <td>{('gaussian', 1.5, 0.3333333333333333, -50.0, ...</td>\n    </tr>\n    <tr>\n      <th>454</th>\n      <td>69</td>\n      <td>0.9</td>\n      <td>100</td>\n      <td>100</td>\n      <td>none</td>\n      <td>ML</td>\n      <td>No</td>\n      <td>MC</td>\n      <td>none</td>\n      <td>02022017_454µm_67mso.mcd,02022017_454µm_71mso.mcd</td>\n      <td>[2.1st block missing mcd file but correspondin...</td>\n      <td>454</td>\n      <td>none</td>\n      <td>MSO_order  MSO   no. of Trigs  Stimpulses\n0...</td>\n      <td>[50, 51, 52, 53, 54, 55, 56, 57, 58, 59, 60, 6...</td>\n      <td>[none, none]</td>\n      <td>[none, none]</td>\n      <td>{('gaussian', 1.5, 0.3333333333333333, -50.0, ...</td>\n    </tr>\n    <tr>\n      <th>454</th>\n      <td>0</td>\n      <td>0.0</td>\n      <td>50</td>\n      <td>50</td>\n      <td>none</td>\n      <td>ML</td>\n      <td>No</td>\n      <td>MC</td>\n      <td>none</td>\n      <td>02022017_454µm_67mso_baseline.mcd</td>\n      <td>[none]</td>\n      <td>454</td>\n      <td>none</td>\n      <td>MSO_order  MSO   no. of Trigs  Stimpulses\n0...</td>\n      <td>[100, 101, 102, 103, 104, 105, 106, 107, 108, ...</td>\n      <td>[none]</td>\n      <td>[none]</td>\n      <td>{('gaussian', 1.5, 0.3333333333333333, -50.0, ...</td>\n    </tr>\n    <tr>\n      <th>454</th>\n      <td>76</td>\n      <td>1.0</td>\n      <td>100</td>\n      <td>100</td>\n      <td>none</td>\n      <td>ML</td>\n      <td>No</td>\n      <td>MC</td>\n      <td>none</td>\n      <td>02022017_454µm_75mso.mcd,02022017_454µm_78mso.mcd</td>\n      <td>[none, none]</td>\n      <td>454</td>\n      <td>none</td>\n      <td>MSO_order  MSO   no. of Trigs  Stimpulses\n0...</td>\n      <td>[200, 201, 202, 203, 204, 205, 206, 207, 208, ...</td>\n      <td>[none, none]</td>\n      <td>[none, none]</td>\n      <td>{('gaussian', 1.5, 0.3333333333333333, -50.0, ...</td>\n    </tr>\n    <tr>\n      <th>454</th>\n      <td>83</td>\n      <td>1.1</td>\n      <td>100</td>\n      <td>90</td>\n      <td>none</td>\n      <td>ML</td>\n      <td>No</td>\n      <td>MC</td>\n      <td>none</td>\n      <td>02022017_454µm_82mso.mcd,02022017_454µm_85mso.mcd</td>\n      <td>[none, none]</td>\n      <td>454</td>\n      <td>none</td>\n      <td>MSO_order  MSO   no. of Trigs  Stimpulses\n0...</td>\n      <td>[300, 301, 302, 303, 304, 305, 306, 307, 308, ...</td>\n      <td>[none, none]</td>\n      <td>[none, none]</td>\n      <td>{('gaussian', 1.5, 0.3333333333333333, -50.0, ...</td>\n    </tr>\n    <tr>\n      <th>454</th>\n      <td>92</td>\n      <td>1.2</td>\n      <td>138</td>\n      <td>130</td>\n      <td>none</td>\n      <td>ML</td>\n      <td>No</td>\n      <td>MC</td>\n      <td>none</td>\n      <td>02022017_454µm_90mso0001.mcd,02022017_454µm_94...</td>\n      <td>[none, none, none]</td>\n      <td>454</td>\n      <td>none</td>\n      <td>MSO_order  MSO   no. of Trigs  Stimpulses\n0...</td>\n      <td>[400, 401, 402, 403, 404, 405, 406, 407, 408, ...</td>\n      <td>[none, none, none]</td>\n      <td>[none, none, none]</td>\n      <td>{('gaussian', 1.5, 0.3333333333333333, -50.0, ...</td>\n    </tr>\n    <tr>\n      <th rowspan=\"4\" valign=\"top\">L4</th>\n      <th rowspan=\"4\" valign=\"top\">none</th>\n      <th rowspan=\"4\" valign=\"top\">none</th>\n      <th>752</th>\n      <td>71</td>\n      <td>0.9</td>\n      <td>50</td>\n      <td>50</td>\n      <td>none</td>\n      <td>ML</td>\n      <td>No</td>\n      <td>MC</td>\n      <td>none</td>\n      <td>02022017_752µm_71mso.mcd</td>\n      <td>[none]</td>\n      <td>752</td>\n      <td>none</td>\n      <td>MSO_order  MSO   no. of Trigs  Stimpulses\n0...</td>\n      <td>[0, 1, 2, 3, 4, 5, 6, 7, 8, 9, 10, 11, 12, 13,...</td>\n      <td>[none]</td>\n      <td>[none]</td>\n      <td>{('gaussian', 1.5, 0.3333333333333333, -50.0, ...</td>\n    </tr>\n    <tr>\n      <th>752</th>\n      <td>77</td>\n      <td>1.0</td>\n      <td>100</td>\n      <td>100</td>\n      <td>none</td>\n      <td>ML</td>\n      <td>No</td>\n      <td>MC</td>\n      <td>none</td>\n      <td>02022017_752µm_76mso.mcd,02022017_752µm_78mso.mcd</td>\n      <td>[none, none]</td>\n      <td>752</td>\n      <td>none</td>\n      <td>MSO_order  MSO   no. of Trigs  Stimpulses\n0...</td>\n      <td>[50, 51, 52, 53, 54, 55, 56, 57, 58, 59, 60, 6...</td>\n      <td>[none, none]</td>\n      <td>[none, none]</td>\n      <td>{('gaussian', 1.5, 0.3333333333333333, -50.0, ...</td>\n    </tr>\n    <tr>\n      <th>752</th>\n      <td>82</td>\n      <td>1.1</td>\n      <td>50</td>\n      <td>50</td>\n      <td>none</td>\n      <td>ML</td>\n      <td>No</td>\n      <td>MC</td>\n      <td>none</td>\n      <td>02022017_752µm_82mso.mcd</td>\n      <td>[none]</td>\n      <td>752</td>\n      <td>none</td>\n      <td>MSO_order  MSO   no. of Trigs  Stimpulses\n0...</td>\n      <td>[150, 151, 152, 153, 154, 155, 156, 157, 158, ...</td>\n      <td>[none]</td>\n      <td>[none]</td>\n      <td>{('gaussian', 1.5, 0.3333333333333333, -50.0, ...</td>\n    </tr>\n    <tr>\n      <th>752</th>\n      <td>92</td>\n      <td>1.2</td>\n      <td>100</td>\n      <td>75</td>\n      <td>none</td>\n      <td>ML</td>\n      <td>No</td>\n      <td>MC</td>\n      <td>none</td>\n      <td>02022017_752µm_90mso.mcd,02022017_752µm_94mso.mcd</td>\n      <td>[none, none]</td>\n      <td>752</td>\n      <td>none</td>\n      <td>MSO_order  MSO   no. of Trigs  Stimpulses\n0...</td>\n      <td>[200, 201, 202, 203, 204, 205, 206, 207, 208, ...</td>\n      <td>[none, none]</td>\n      <td>[none, none]</td>\n      <td>{('gaussian', 1.5, 0.3333333333333333, -50.0, ...</td>\n    </tr>\n    <tr>\n      <th rowspan=\"9\" valign=\"top\">L5</th>\n      <th rowspan=\"9\" valign=\"top\">none</th>\n      <th rowspan=\"9\" valign=\"top\">none</th>\n      <th>1214</th>\n      <td>64</td>\n      <td>0.8</td>\n      <td>50</td>\n      <td>50</td>\n      <td>none</td>\n      <td>ML</td>\n      <td>No</td>\n      <td>MC</td>\n      <td>none</td>\n      <td>02022017_1214µm_64mso.mcd</td>\n      <td>[none]</td>\n      <td>1214</td>\n      <td>none</td>\n      <td>MSO_order  MSO   no. of Trigs  Stimpulses\n0...</td>\n      <td>[0, 1, 2, 3, 4, 5, 6, 7, 8, 9, 10, 11, 12, 13,...</td>\n      <td>[none]</td>\n      <td>[none]</td>\n      <td>{('gaussian', 1.5, 0.3333333333333333, -50.0, ...</td>\n    </tr>\n    <tr>\n      <th>1214</th>\n      <td>69</td>\n      <td>0.9</td>\n      <td>100</td>\n      <td>100</td>\n      <td>none</td>\n      <td>ML</td>\n      <td>No</td>\n      <td>MC</td>\n      <td>none</td>\n      <td>02022017_1214µm_67mso.mcd,02022017_1214µm_71ms...</td>\n      <td>[none, none]</td>\n      <td>1214</td>\n      <td>none</td>\n      <td>MSO_order  MSO   no. of Trigs  Stimpulses\n0...</td>\n      <td>[50, 51, 52, 53, 54, 55, 56, 57, 58, 59, 60, 6...</td>\n      <td>[none, none]</td>\n      <td>[none, none]</td>\n      <td>{('gaussian', 1.5, 0.3333333333333333, -50.0, ...</td>\n    </tr>\n    <tr>\n      <th>1214</th>\n      <td>0</td>\n      <td>0.0</td>\n      <td>50</td>\n      <td>50</td>\n      <td>none</td>\n      <td>ML</td>\n      <td>No</td>\n      <td>MC</td>\n      <td>none</td>\n      <td>02022017_1214µm_71mso_baseline.mcd</td>\n      <td>[none]</td>\n      <td>1214</td>\n      <td>none</td>\n      <td>MSO_order  MSO   no. of Trigs  Stimpulses\n0...</td>\n      <td>[150, 151, 152, 153, 154, 155, 156, 157, 158, ...</td>\n      <td>[none]</td>\n      <td>[none]</td>\n      <td>{('gaussian', 1.5, 0.3333333333333333, -50.0, ...</td>\n    </tr>\n    <tr>\n      <th>1214</th>\n      <td>76</td>\n      <td>1.0</td>\n      <td>149</td>\n      <td>145</td>\n      <td>none</td>\n      <td>ML</td>\n      <td>No</td>\n      <td>MC</td>\n      <td>none</td>\n      <td>02022017_1214µm_75mso.mcd,02022017_1214µm_75ms...</td>\n      <td>[none, none, none]</td>\n      <td>1214</td>\n      <td>none</td>\n      <td>MSO_order  MSO   no. of Trigs  Stimpulses\n0...</td>\n      <td>[200, 201, 202, 203, 204, 205, 206, 207, 208, ...</td>\n      <td>[none, none, none]</td>\n      <td>[none, none, none]</td>\n      <td>{('gaussian', 1.5, 0.3333333333333333, -50.0, ...</td>\n    </tr>\n    <tr>\n      <th>1214</th>\n      <td>85</td>\n      <td>1.1</td>\n      <td>46</td>\n      <td>45</td>\n      <td>none</td>\n      <td>ML</td>\n      <td>No</td>\n      <td>MC</td>\n      <td>none</td>\n      <td>02022017_1214µm_85mso.mcd</td>\n      <td>[none]</td>\n      <td>1214</td>\n      <td>none</td>\n      <td>MSO_order  MSO   no. of Trigs  Stimpulses\n0...</td>\n      <td>[349, 350, 351, 352, 353, 354, 355, 356, 357, ...</td>\n      <td>[none]</td>\n      <td>[none]</td>\n      <td>{('gaussian', 1.5, 0.3333333333333333, -50.0, ...</td>\n    </tr>\n    <tr>\n      <th>1215</th>\n      <td>71</td>\n      <td>0.9</td>\n      <td>50</td>\n      <td>50</td>\n      <td>none</td>\n      <td>ML</td>\n      <td>No</td>\n      <td>MC</td>\n      <td>none</td>\n      <td>02022017_1214µm_71mso0001.mcd</td>\n      <td>[none]</td>\n      <td>1215</td>\n      <td>none</td>\n      <td>MSO_order  MSO   no. of Trigs  Stimpulses\n0...</td>\n      <td>[0, 1, 2, 3, 4, 5, 6, 7, 8, 9, 10, 11, 12, 13,...</td>\n      <td>[none]</td>\n      <td>[none]</td>\n      <td>{('gaussian', 1.5, 0.3333333333333333, -50.0, ...</td>\n    </tr>\n    <tr>\n      <th>1215</th>\n      <td>77</td>\n      <td>1.0</td>\n      <td>100</td>\n      <td>100</td>\n      <td>none</td>\n      <td>ML</td>\n      <td>No</td>\n      <td>MC</td>\n      <td>none</td>\n      <td>02022017_1214µm_76mso.mcd,02022017_1214µm_78ms...</td>\n      <td>[none, none]</td>\n      <td>1215</td>\n      <td>none</td>\n      <td>MSO_order  MSO   no. of Trigs  Stimpulses\n0...</td>\n      <td>[50, 51, 52, 53, 54, 55, 56, 57, 58, 59, 60, 6...</td>\n      <td>[none, none]</td>\n      <td>[none, none]</td>\n      <td>{('gaussian', 1.5, 0.3333333333333333, -50.0, ...</td>\n    </tr>\n    <tr>\n      <th>1215</th>\n      <td>82</td>\n      <td>1.1</td>\n      <td>100</td>\n      <td>66</td>\n      <td>none</td>\n      <td>ML</td>\n      <td>No</td>\n      <td>MC</td>\n      <td>none</td>\n      <td>02022017_1214µm_82mso0001.mcd,02022017_1214µm_...</td>\n      <td>[none, none]</td>\n      <td>1215</td>\n      <td>none</td>\n      <td>MSO_order  MSO   no. of Trigs  Stimpulses\n0...</td>\n      <td>[150, 151, 152, 153, 154, 155, 156, 157, 158, ...</td>\n      <td>[none, none]</td>\n      <td>[none, none]</td>\n      <td>{('gaussian', 1.5, 0.3333333333333333, -50.0, ...</td>\n    </tr>\n    <tr>\n      <th>1215</th>\n      <td>91</td>\n      <td>1.2</td>\n      <td>150</td>\n      <td>94</td>\n      <td>none</td>\n      <td>ML</td>\n      <td>No</td>\n      <td>MC</td>\n      <td>none</td>\n      <td>02022017_1214µm_90mso.mcd,02022017_1214µm_90ms...</td>\n      <td>[none, none, none]</td>\n      <td>1215</td>\n      <td>none</td>\n      <td>MSO_order  MSO   no. of Trigs  Stimpulses\n0...</td>\n      <td>[250, 251, 252, 253, 254, 255, 256, 257, 258, ...</td>\n      <td>[none, none, none]</td>\n      <td>[none, none, none]</td>\n      <td>{('gaussian', 1.5, 0.3333333333333333, -50.0, ...</td>\n    </tr>\n  </tbody>\n</table>\n</div>"
     },
     "execution_count": 28,
     "metadata": {},
     "output_type": "execute_result"
    }
   ],
   "source": [
    "tms.blocksinfo"
   ],
   "metadata": {
    "collapsed": false,
    "ExecuteTime": {
     "end_time": "2024-04-26T22:29:30.418469Z",
     "start_time": "2024-04-26T22:28:54.140930100Z"
    }
   },
   "id": "a910e33cd8ce8a3c"
  },
  {
   "cell_type": "code",
   "execution_count": 13,
   "outputs": [],
   "source": [
    "import pandas as pd\n",
    "df = pd.read_excel('G:/Vishnu/data/animalList/animalList.xlsx').dropna()"
   ],
   "metadata": {
    "collapsed": false,
    "ExecuteTime": {
     "end_time": "2024-10-16T11:34:28.116771200Z",
     "start_time": "2024-10-16T11:34:28.066463600Z"
    }
   },
   "id": "a5534923a207e6ca"
  },
  {
   "cell_type": "code",
   "execution_count": 14,
   "outputs": [
    {
     "data": {
      "text/plain": "   Unnamed: 0    Animal                         Folder\n0           0  20191201  G:\\Vishnu\\data\\TMSTG\\20191201",
      "text/html": "<div>\n<style scoped>\n    .dataframe tbody tr th:only-of-type {\n        vertical-align: middle;\n    }\n\n    .dataframe tbody tr th {\n        vertical-align: top;\n    }\n\n    .dataframe thead th {\n        text-align: right;\n    }\n</style>\n<table border=\"1\" class=\"dataframe\">\n  <thead>\n    <tr style=\"text-align: right;\">\n      <th></th>\n      <th>Unnamed: 0</th>\n      <th>Animal</th>\n      <th>Folder</th>\n    </tr>\n  </thead>\n  <tbody>\n    <tr>\n      <th>0</th>\n      <td>0</td>\n      <td>20191201</td>\n      <td>G:\\Vishnu\\data\\TMSTG\\20191201</td>\n    </tr>\n  </tbody>\n</table>\n</div>"
     },
     "execution_count": 14,
     "metadata": {},
     "output_type": "execute_result"
    }
   ],
   "source": [
    "df"
   ],
   "metadata": {
    "collapsed": false,
    "ExecuteTime": {
     "end_time": "2024-10-16T11:34:29.702567400Z",
     "start_time": "2024-10-16T11:34:29.659143400Z"
    }
   },
   "id": "c335af944c04c64e"
  },
  {
   "cell_type": "code",
   "execution_count": 7,
   "outputs": [],
   "source": [
    "df.loc[0,'Folder'] = 'G:\\\\Vishnu\\\\data\\\\TMSTG\\\\20191201'\n",
    "df.loc[0,'Animal'] = '20191201'"
   ],
   "metadata": {
    "collapsed": false,
    "ExecuteTime": {
     "end_time": "2024-10-16T11:29:34.309830800Z",
     "start_time": "2024-10-16T11:29:34.279021300Z"
    }
   },
   "id": "6fec27c8a4ebf373"
  },
  {
   "cell_type": "code",
   "execution_count": 19,
   "outputs": [
    {
     "data": {
      "text/plain": "   Unnamed: 0    Animal                         Folder\n0           0  20191201  G:\\Vishnu\\data\\TMSTG\\20191201",
      "text/html": "<div>\n<style scoped>\n    .dataframe tbody tr th:only-of-type {\n        vertical-align: middle;\n    }\n\n    .dataframe tbody tr th {\n        vertical-align: top;\n    }\n\n    .dataframe thead th {\n        text-align: right;\n    }\n</style>\n<table border=\"1\" class=\"dataframe\">\n  <thead>\n    <tr style=\"text-align: right;\">\n      <th></th>\n      <th>Unnamed: 0</th>\n      <th>Animal</th>\n      <th>Folder</th>\n    </tr>\n  </thead>\n  <tbody>\n    <tr>\n      <th>0</th>\n      <td>0</td>\n      <td>20191201</td>\n      <td>G:\\Vishnu\\data\\TMSTG\\20191201</td>\n    </tr>\n  </tbody>\n</table>\n</div>"
     },
     "execution_count": 19,
     "metadata": {},
     "output_type": "execute_result"
    }
   ],
   "source": [
    "df"
   ],
   "metadata": {
    "collapsed": false,
    "ExecuteTime": {
     "end_time": "2024-10-16T11:36:12.788609900Z",
     "start_time": "2024-10-16T11:36:12.751304Z"
    }
   },
   "id": "c21ec4bf2a8d0be1"
  },
  {
   "cell_type": "code",
   "execution_count": 20,
   "outputs": [],
   "source": [
    "df.drop(columns='Unnamed: 0', inplace=True)"
   ],
   "metadata": {
    "collapsed": false,
    "ExecuteTime": {
     "end_time": "2024-10-16T11:36:26.581800500Z",
     "start_time": "2024-10-16T11:36:26.538029400Z"
    }
   },
   "id": "b890591a75cd4cb7"
  },
  {
   "cell_type": "code",
   "execution_count": 21,
   "outputs": [],
   "source": [
    "df.to_excel('G:/Vishnu/data/animalList/animalList.xlsx', index=False)"
   ],
   "metadata": {
    "collapsed": false,
    "ExecuteTime": {
     "end_time": "2024-10-16T11:36:30.262153600Z",
     "start_time": "2024-10-16T11:36:30.178819400Z"
    }
   },
   "id": "fb17200038eeb466"
  },
  {
   "cell_type": "code",
   "execution_count": 3,
   "outputs": [
    {
     "data": {
      "text/plain": "'G:\\\\Vishnu\\\\data\\\\TMSTG\\\\20191119'"
     },
     "execution_count": 3,
     "metadata": {},
     "output_type": "execute_result"
    }
   ],
   "source": [
    "dirname"
   ],
   "metadata": {
    "collapsed": false,
    "ExecuteTime": {
     "end_time": "2024-10-15T22:52:14.437706800Z",
     "start_time": "2024-10-15T22:52:14.385799400Z"
    }
   },
   "id": "d79a03ed1970d1fa"
  },
  {
   "cell_type": "code",
   "execution_count": null,
   "outputs": [],
   "source": [],
   "metadata": {
    "collapsed": false
   },
   "id": "2627ac965e89e147"
  }
 ],
 "metadata": {
  "kernelspec": {
   "display_name": "Python 3",
   "language": "python",
   "name": "python3"
  },
  "language_info": {
   "codemirror_mode": {
    "name": "ipython",
    "version": 2
   },
   "file_extension": ".py",
   "mimetype": "text/x-python",
   "name": "python",
   "nbconvert_exporter": "python",
   "pygments_lexer": "ipython2",
   "version": "2.7.6"
  }
 },
 "nbformat": 4,
 "nbformat_minor": 5
}
