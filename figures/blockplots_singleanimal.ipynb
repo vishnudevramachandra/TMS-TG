{
 "cells": [
  {
   "cell_type": "code",
   "execution_count": 6,
   "id": "initial_id",
   "metadata": {
    "collapsed": true,
    "ExecuteTime": {
     "end_time": "2024-01-10T19:07:23.765240300Z",
     "start_time": "2024-01-10T19:07:23.559159100Z"
    }
   },
   "outputs": [
    {
     "name": "stdout",
     "output_type": "stream",
     "text": [
      "G:\\Vishnu\\data\\TMSTG\\20210307\\20210307_MC_Base_1409_SL_Data_SpikeAmpTH3.5.mat successfully read\n",
      "G:\\Vishnu\\data\\TMSTG\\20210307\\20210307_MC_Base_1409_SL_Data_SpikeAmpTH3.5.mat closed successfully\n",
      "G:\\Vishnu\\data\\TMSTG\\20210307\\20210307_MC_Cortex_Abl_Both_1410_SL_Data_SpikeAmpTH3.5.mat successfully read\n",
      "G:\\Vishnu\\data\\TMSTG\\20210307\\20210307_MC_Cortex_Abl_Both_1410_SL_Data_SpikeAmpTH3.5.mat closed successfully\n",
      "G:\\Vishnu\\data\\TMSTG\\20210307\\20210307_MC_TGcut_Left_Inject_rTG_0_1411_SL_Data_SpikeAmpTH3.5.mat successfully read\n",
      "G:\\Vishnu\\data\\TMSTG\\20210307\\20210307_MC_TGcut_Left_Inject_rTG_0_1411_SL_Data_SpikeAmpTH3.5.mat closed successfully\n",
      "G:\\Vishnu\\data\\TMSTG\\20210307\\20210307_MC_TGcut_Left_Inject_rTG_1_1412_SL_Data_SpikeAmpTH3.5.mat successfully read\n",
      "G:\\Vishnu\\data\\TMSTG\\20210307\\20210307_MC_TGcut_Left_Inject_rTG_1_1412_SL_Data_SpikeAmpTH3.5.mat closed successfully\n"
     ]
    }
   ],
   "source": [
    "import numpy as np\n",
    "import numba as nb\n",
    "import matplotlib.pyplot as plt\n",
    "import pandas as pd\n",
    "import math\n",
    "\n",
    "from tms_tg import TMSTG, EPOCHISOLATORS\n",
    "nb.set_num_threads(max(1, int(nb.config.NUMBA_NUM_THREADS // 1.25)))\n",
    "animalList = r'G:\\Vishnu\\data\\TMSTG\\animalList.xlsx'\n",
    "\n",
    "tms = TMSTG.load(animalList)"
   ]
  },
  {
   "cell_type": "code",
   "execution_count": 7,
   "outputs": [
    {
     "name": "stdout",
     "output_type": "stream",
     "text": [
      "analysis_params set to:  {'selectionParams': {'Epoch': {'Animal': ('20210307',), 'Region': ('MC',), 'Layer': ('L5',), 'CoilHemVsRecHem': None, 'Mov': None, 'Depth': ('1409',)}}, 'TMSArtifactParams': {'timeWin': (-0.3, 0.5)}, 'peristimParams': {'smoothingParams': {'win': 'gaussian', 'width': 1.5, 'overlap': 0.3333333333333333}, 'timeWin': (-20.0, 100.0), 'trigger': 'TMS', 'baselinetimeWin': (-50.0, -1.0)}}\n",
      "----------------------------\n",
      "compute_firingrate runs...........\n"
     ]
    },
    {
     "name": "stderr",
     "output_type": "stream",
     "text": [
      "G:\\Vishnu\\Analysis\\tms-tg\\lib\\helper_tms_tg.py:166: UserWarning: Cannot check the MSO order in blocksinfo for epoch ('20210307', 'MC', 'L5', 'none', 'none', '1409') using mat-data information. Hence, using the MSO order in blocksinfo as it is; keep in mind that the source of this MSO order contained in infofile has to match the true recording MSO order, otherwise wrong MSO will be associated to epochs [Katastrophe].\n",
      "  warnings.warn(f'Cannot check the MSO order in blocksinfo for epoch {epochIndex} using mat-data information.'\n",
      "G:\\Vishnu\\Analysis\\tms-tg\\lib\\helper_tms_tg.py:166: UserWarning: Cannot check the MSO order in blocksinfo for epoch ('20210307', 'MC', 'L5', 'none', 'none', '1410') using mat-data information. Hence, using the MSO order in blocksinfo as it is; keep in mind that the source of this MSO order contained in infofile has to match the true recording MSO order, otherwise wrong MSO will be associated to epochs [Katastrophe].\n",
      "  warnings.warn(f'Cannot check the MSO order in blocksinfo for epoch {epochIndex} using mat-data information.'\n",
      "G:\\Vishnu\\Analysis\\tms-tg\\lib\\helper_tms_tg.py:166: UserWarning: Cannot check the MSO order in blocksinfo for epoch ('20210307', 'MC', 'L5', 'none', 'none', '1411') using mat-data information. Hence, using the MSO order in blocksinfo as it is; keep in mind that the source of this MSO order contained in infofile has to match the true recording MSO order, otherwise wrong MSO will be associated to epochs [Katastrophe].\n",
      "  warnings.warn(f'Cannot check the MSO order in blocksinfo for epoch {epochIndex} using mat-data information.'\n",
      "G:\\Vishnu\\Analysis\\tms-tg\\lib\\helper_tms_tg.py:166: UserWarning: Cannot check the MSO order in blocksinfo for epoch ('20210307', 'MC', 'L5', 'none', 'none', '1412') using mat-data information. Hence, using the MSO order in blocksinfo as it is; keep in mind that the source of this MSO order contained in infofile has to match the true recording MSO order, otherwise wrong MSO will be associated to epochs [Katastrophe].\n",
      "  warnings.warn(f'Cannot check the MSO order in blocksinfo for epoch {epochIndex} using mat-data information.'\n"
     ]
    },
    {
     "name": "stdout",
     "output_type": "stream",
     "text": [
      "compute_firingrate runs...........\n"
     ]
    },
    {
     "name": "stderr",
     "output_type": "stream",
     "text": [
      "G:\\Vishnu\\Analysis\\tms-tg\\lib\\helper_tms_tg.py:166: UserWarning: Cannot check the MSO order in blocksinfo for epoch ('20210307', 'MC', 'L5', 'none', 'none', '1409') using mat-data information. Hence, using the MSO order in blocksinfo as it is; keep in mind that the source of this MSO order contained in infofile has to match the true recording MSO order, otherwise wrong MSO will be associated to epochs [Katastrophe].\n",
      "  warnings.warn(f'Cannot check the MSO order in blocksinfo for epoch {epochIndex} using mat-data information.'\n",
      "G:\\Vishnu\\Analysis\\tms-tg\\lib\\helper_tms_tg.py:166: UserWarning: Cannot check the MSO order in blocksinfo for epoch ('20210307', 'MC', 'L5', 'none', 'none', '1410') using mat-data information. Hence, using the MSO order in blocksinfo as it is; keep in mind that the source of this MSO order contained in infofile has to match the true recording MSO order, otherwise wrong MSO will be associated to epochs [Katastrophe].\n",
      "  warnings.warn(f'Cannot check the MSO order in blocksinfo for epoch {epochIndex} using mat-data information.'\n",
      "G:\\Vishnu\\Analysis\\tms-tg\\lib\\helper_tms_tg.py:166: UserWarning: Cannot check the MSO order in blocksinfo for epoch ('20210307', 'MC', 'L5', 'none', 'none', '1411') using mat-data information. Hence, using the MSO order in blocksinfo as it is; keep in mind that the source of this MSO order contained in infofile has to match the true recording MSO order, otherwise wrong MSO will be associated to epochs [Katastrophe].\n",
      "  warnings.warn(f'Cannot check the MSO order in blocksinfo for epoch {epochIndex} using mat-data information.'\n",
      "G:\\Vishnu\\Analysis\\tms-tg\\lib\\helper_tms_tg.py:166: UserWarning: Cannot check the MSO order in blocksinfo for epoch ('20210307', 'MC', 'L5', 'none', 'none', '1412') using mat-data information. Hence, using the MSO order in blocksinfo as it is; keep in mind that the source of this MSO order contained in infofile has to match the true recording MSO order, otherwise wrong MSO will be associated to epochs [Katastrophe].\n",
      "  warnings.warn(f'Cannot check the MSO order in blocksinfo for epoch {epochIndex} using mat-data information.'\n"
     ]
    },
    {
     "name": "stdout",
     "output_type": "stream",
     "text": [
      "analysis_params set to:  {'selectionParams': {'Epoch': {'Animal': ('20210307',), 'Region': ('MC',), 'Layer': ('L5',), 'CoilHemVsRecHem': None, 'Mov': None, 'Depth': ('1410',)}}, 'TMSArtifactParams': {'timeWin': (-0.3, 0.5)}, 'peristimParams': {'smoothingParams': {'win': 'gaussian', 'width': 1.5, 'overlap': 0.3333333333333333}, 'timeWin': (-20.0, 100.0), 'trigger': 'TMS', 'baselinetimeWin': (-50.0, -1.0)}}\n",
      "----------------------------\n",
      "compute_firingrate runs...........\n"
     ]
    },
    {
     "name": "stderr",
     "output_type": "stream",
     "text": [
      "G:\\Vishnu\\Analysis\\tms-tg\\lib\\helper_tms_tg.py:166: UserWarning: Cannot check the MSO order in blocksinfo for epoch ('20210307', 'MC', 'L5', 'none', 'none', '1409') using mat-data information. Hence, using the MSO order in blocksinfo as it is; keep in mind that the source of this MSO order contained in infofile has to match the true recording MSO order, otherwise wrong MSO will be associated to epochs [Katastrophe].\n",
      "  warnings.warn(f'Cannot check the MSO order in blocksinfo for epoch {epochIndex} using mat-data information.'\n",
      "G:\\Vishnu\\Analysis\\tms-tg\\lib\\helper_tms_tg.py:166: UserWarning: Cannot check the MSO order in blocksinfo for epoch ('20210307', 'MC', 'L5', 'none', 'none', '1410') using mat-data information. Hence, using the MSO order in blocksinfo as it is; keep in mind that the source of this MSO order contained in infofile has to match the true recording MSO order, otherwise wrong MSO will be associated to epochs [Katastrophe].\n",
      "  warnings.warn(f'Cannot check the MSO order in blocksinfo for epoch {epochIndex} using mat-data information.'\n",
      "G:\\Vishnu\\Analysis\\tms-tg\\lib\\helper_tms_tg.py:166: UserWarning: Cannot check the MSO order in blocksinfo for epoch ('20210307', 'MC', 'L5', 'none', 'none', '1411') using mat-data information. Hence, using the MSO order in blocksinfo as it is; keep in mind that the source of this MSO order contained in infofile has to match the true recording MSO order, otherwise wrong MSO will be associated to epochs [Katastrophe].\n",
      "  warnings.warn(f'Cannot check the MSO order in blocksinfo for epoch {epochIndex} using mat-data information.'\n",
      "G:\\Vishnu\\Analysis\\tms-tg\\lib\\helper_tms_tg.py:166: UserWarning: Cannot check the MSO order in blocksinfo for epoch ('20210307', 'MC', 'L5', 'none', 'none', '1412') using mat-data information. Hence, using the MSO order in blocksinfo as it is; keep in mind that the source of this MSO order contained in infofile has to match the true recording MSO order, otherwise wrong MSO will be associated to epochs [Katastrophe].\n",
      "  warnings.warn(f'Cannot check the MSO order in blocksinfo for epoch {epochIndex} using mat-data information.'\n"
     ]
    },
    {
     "name": "stdout",
     "output_type": "stream",
     "text": [
      "compute_firingrate runs...........\n"
     ]
    },
    {
     "name": "stderr",
     "output_type": "stream",
     "text": [
      "G:\\Vishnu\\Analysis\\tms-tg\\lib\\helper_tms_tg.py:166: UserWarning: Cannot check the MSO order in blocksinfo for epoch ('20210307', 'MC', 'L5', 'none', 'none', '1409') using mat-data information. Hence, using the MSO order in blocksinfo as it is; keep in mind that the source of this MSO order contained in infofile has to match the true recording MSO order, otherwise wrong MSO will be associated to epochs [Katastrophe].\n",
      "  warnings.warn(f'Cannot check the MSO order in blocksinfo for epoch {epochIndex} using mat-data information.'\n",
      "G:\\Vishnu\\Analysis\\tms-tg\\lib\\helper_tms_tg.py:166: UserWarning: Cannot check the MSO order in blocksinfo for epoch ('20210307', 'MC', 'L5', 'none', 'none', '1410') using mat-data information. Hence, using the MSO order in blocksinfo as it is; keep in mind that the source of this MSO order contained in infofile has to match the true recording MSO order, otherwise wrong MSO will be associated to epochs [Katastrophe].\n",
      "  warnings.warn(f'Cannot check the MSO order in blocksinfo for epoch {epochIndex} using mat-data information.'\n",
      "G:\\Vishnu\\Analysis\\tms-tg\\lib\\helper_tms_tg.py:166: UserWarning: Cannot check the MSO order in blocksinfo for epoch ('20210307', 'MC', 'L5', 'none', 'none', '1411') using mat-data information. Hence, using the MSO order in blocksinfo as it is; keep in mind that the source of this MSO order contained in infofile has to match the true recording MSO order, otherwise wrong MSO will be associated to epochs [Katastrophe].\n",
      "  warnings.warn(f'Cannot check the MSO order in blocksinfo for epoch {epochIndex} using mat-data information.'\n",
      "G:\\Vishnu\\Analysis\\tms-tg\\lib\\helper_tms_tg.py:166: UserWarning: Cannot check the MSO order in blocksinfo for epoch ('20210307', 'MC', 'L5', 'none', 'none', '1412') using mat-data information. Hence, using the MSO order in blocksinfo as it is; keep in mind that the source of this MSO order contained in infofile has to match the true recording MSO order, otherwise wrong MSO will be associated to epochs [Katastrophe].\n",
      "  warnings.warn(f'Cannot check the MSO order in blocksinfo for epoch {epochIndex} using mat-data information.'\n"
     ]
    },
    {
     "name": "stdout",
     "output_type": "stream",
     "text": [
      "analysis_params set to:  {'selectionParams': {'Epoch': {'Animal': ('20210307',), 'Region': ('MC',), 'Layer': ('L5',), 'CoilHemVsRecHem': None, 'Mov': None, 'Depth': ('1411',)}}, 'TMSArtifactParams': {'timeWin': (-0.3, 0.5)}, 'peristimParams': {'smoothingParams': {'win': 'gaussian', 'width': 1.5, 'overlap': 0.3333333333333333}, 'timeWin': (-20.0, 100.0), 'trigger': 'TMS', 'baselinetimeWin': (-50.0, -1.0)}}\n",
      "----------------------------\n",
      "compute_firingrate runs...........\n"
     ]
    },
    {
     "name": "stderr",
     "output_type": "stream",
     "text": [
      "G:\\Vishnu\\Analysis\\tms-tg\\lib\\helper_tms_tg.py:166: UserWarning: Cannot check the MSO order in blocksinfo for epoch ('20210307', 'MC', 'L5', 'none', 'none', '1409') using mat-data information. Hence, using the MSO order in blocksinfo as it is; keep in mind that the source of this MSO order contained in infofile has to match the true recording MSO order, otherwise wrong MSO will be associated to epochs [Katastrophe].\n",
      "  warnings.warn(f'Cannot check the MSO order in blocksinfo for epoch {epochIndex} using mat-data information.'\n",
      "G:\\Vishnu\\Analysis\\tms-tg\\lib\\helper_tms_tg.py:166: UserWarning: Cannot check the MSO order in blocksinfo for epoch ('20210307', 'MC', 'L5', 'none', 'none', '1410') using mat-data information. Hence, using the MSO order in blocksinfo as it is; keep in mind that the source of this MSO order contained in infofile has to match the true recording MSO order, otherwise wrong MSO will be associated to epochs [Katastrophe].\n",
      "  warnings.warn(f'Cannot check the MSO order in blocksinfo for epoch {epochIndex} using mat-data information.'\n",
      "G:\\Vishnu\\Analysis\\tms-tg\\lib\\helper_tms_tg.py:166: UserWarning: Cannot check the MSO order in blocksinfo for epoch ('20210307', 'MC', 'L5', 'none', 'none', '1411') using mat-data information. Hence, using the MSO order in blocksinfo as it is; keep in mind that the source of this MSO order contained in infofile has to match the true recording MSO order, otherwise wrong MSO will be associated to epochs [Katastrophe].\n",
      "  warnings.warn(f'Cannot check the MSO order in blocksinfo for epoch {epochIndex} using mat-data information.'\n",
      "G:\\Vishnu\\Analysis\\tms-tg\\lib\\helper_tms_tg.py:166: UserWarning: Cannot check the MSO order in blocksinfo for epoch ('20210307', 'MC', 'L5', 'none', 'none', '1412') using mat-data information. Hence, using the MSO order in blocksinfo as it is; keep in mind that the source of this MSO order contained in infofile has to match the true recording MSO order, otherwise wrong MSO will be associated to epochs [Katastrophe].\n",
      "  warnings.warn(f'Cannot check the MSO order in blocksinfo for epoch {epochIndex} using mat-data information.'\n"
     ]
    },
    {
     "name": "stdout",
     "output_type": "stream",
     "text": [
      "compute_firingrate runs...........\n"
     ]
    },
    {
     "name": "stderr",
     "output_type": "stream",
     "text": [
      "G:\\Vishnu\\Analysis\\tms-tg\\lib\\helper_tms_tg.py:166: UserWarning: Cannot check the MSO order in blocksinfo for epoch ('20210307', 'MC', 'L5', 'none', 'none', '1409') using mat-data information. Hence, using the MSO order in blocksinfo as it is; keep in mind that the source of this MSO order contained in infofile has to match the true recording MSO order, otherwise wrong MSO will be associated to epochs [Katastrophe].\n",
      "  warnings.warn(f'Cannot check the MSO order in blocksinfo for epoch {epochIndex} using mat-data information.'\n",
      "G:\\Vishnu\\Analysis\\tms-tg\\lib\\helper_tms_tg.py:166: UserWarning: Cannot check the MSO order in blocksinfo for epoch ('20210307', 'MC', 'L5', 'none', 'none', '1410') using mat-data information. Hence, using the MSO order in blocksinfo as it is; keep in mind that the source of this MSO order contained in infofile has to match the true recording MSO order, otherwise wrong MSO will be associated to epochs [Katastrophe].\n",
      "  warnings.warn(f'Cannot check the MSO order in blocksinfo for epoch {epochIndex} using mat-data information.'\n",
      "G:\\Vishnu\\Analysis\\tms-tg\\lib\\helper_tms_tg.py:166: UserWarning: Cannot check the MSO order in blocksinfo for epoch ('20210307', 'MC', 'L5', 'none', 'none', '1411') using mat-data information. Hence, using the MSO order in blocksinfo as it is; keep in mind that the source of this MSO order contained in infofile has to match the true recording MSO order, otherwise wrong MSO will be associated to epochs [Katastrophe].\n",
      "  warnings.warn(f'Cannot check the MSO order in blocksinfo for epoch {epochIndex} using mat-data information.'\n",
      "G:\\Vishnu\\Analysis\\tms-tg\\lib\\helper_tms_tg.py:166: UserWarning: Cannot check the MSO order in blocksinfo for epoch ('20210307', 'MC', 'L5', 'none', 'none', '1412') using mat-data information. Hence, using the MSO order in blocksinfo as it is; keep in mind that the source of this MSO order contained in infofile has to match the true recording MSO order, otherwise wrong MSO will be associated to epochs [Katastrophe].\n",
      "  warnings.warn(f'Cannot check the MSO order in blocksinfo for epoch {epochIndex} using mat-data information.'\n"
     ]
    },
    {
     "name": "stdout",
     "output_type": "stream",
     "text": [
      "analysis_params set to:  {'selectionParams': {'Epoch': {'Animal': ('20210307',), 'Region': ('MC',), 'Layer': ('L5',), 'CoilHemVsRecHem': None, 'Mov': None, 'Depth': ('1412',)}}, 'TMSArtifactParams': {'timeWin': (-0.3, 0.5)}, 'peristimParams': {'smoothingParams': {'win': 'gaussian', 'width': 1.5, 'overlap': 0.3333333333333333}, 'timeWin': (-20.0, 100.0), 'trigger': 'TMS', 'baselinetimeWin': (-50.0, -1.0)}}\n",
      "----------------------------\n",
      "compute_firingrate runs...........\n"
     ]
    },
    {
     "name": "stderr",
     "output_type": "stream",
     "text": [
      "G:\\Vishnu\\Analysis\\tms-tg\\lib\\helper_tms_tg.py:166: UserWarning: Cannot check the MSO order in blocksinfo for epoch ('20210307', 'MC', 'L5', 'none', 'none', '1409') using mat-data information. Hence, using the MSO order in blocksinfo as it is; keep in mind that the source of this MSO order contained in infofile has to match the true recording MSO order, otherwise wrong MSO will be associated to epochs [Katastrophe].\n",
      "  warnings.warn(f'Cannot check the MSO order in blocksinfo for epoch {epochIndex} using mat-data information.'\n",
      "G:\\Vishnu\\Analysis\\tms-tg\\lib\\helper_tms_tg.py:166: UserWarning: Cannot check the MSO order in blocksinfo for epoch ('20210307', 'MC', 'L5', 'none', 'none', '1410') using mat-data information. Hence, using the MSO order in blocksinfo as it is; keep in mind that the source of this MSO order contained in infofile has to match the true recording MSO order, otherwise wrong MSO will be associated to epochs [Katastrophe].\n",
      "  warnings.warn(f'Cannot check the MSO order in blocksinfo for epoch {epochIndex} using mat-data information.'\n",
      "G:\\Vishnu\\Analysis\\tms-tg\\lib\\helper_tms_tg.py:166: UserWarning: Cannot check the MSO order in blocksinfo for epoch ('20210307', 'MC', 'L5', 'none', 'none', '1411') using mat-data information. Hence, using the MSO order in blocksinfo as it is; keep in mind that the source of this MSO order contained in infofile has to match the true recording MSO order, otherwise wrong MSO will be associated to epochs [Katastrophe].\n",
      "  warnings.warn(f'Cannot check the MSO order in blocksinfo for epoch {epochIndex} using mat-data information.'\n",
      "G:\\Vishnu\\Analysis\\tms-tg\\lib\\helper_tms_tg.py:166: UserWarning: Cannot check the MSO order in blocksinfo for epoch ('20210307', 'MC', 'L5', 'none', 'none', '1412') using mat-data information. Hence, using the MSO order in blocksinfo as it is; keep in mind that the source of this MSO order contained in infofile has to match the true recording MSO order, otherwise wrong MSO will be associated to epochs [Katastrophe].\n",
      "  warnings.warn(f'Cannot check the MSO order in blocksinfo for epoch {epochIndex} using mat-data information.'\n"
     ]
    },
    {
     "name": "stdout",
     "output_type": "stream",
     "text": [
      "compute_firingrate runs...........\n"
     ]
    },
    {
     "name": "stderr",
     "output_type": "stream",
     "text": [
      "G:\\Vishnu\\Analysis\\tms-tg\\lib\\helper_tms_tg.py:166: UserWarning: Cannot check the MSO order in blocksinfo for epoch ('20210307', 'MC', 'L5', 'none', 'none', '1409') using mat-data information. Hence, using the MSO order in blocksinfo as it is; keep in mind that the source of this MSO order contained in infofile has to match the true recording MSO order, otherwise wrong MSO will be associated to epochs [Katastrophe].\n",
      "  warnings.warn(f'Cannot check the MSO order in blocksinfo for epoch {epochIndex} using mat-data information.'\n",
      "G:\\Vishnu\\Analysis\\tms-tg\\lib\\helper_tms_tg.py:166: UserWarning: Cannot check the MSO order in blocksinfo for epoch ('20210307', 'MC', 'L5', 'none', 'none', '1410') using mat-data information. Hence, using the MSO order in blocksinfo as it is; keep in mind that the source of this MSO order contained in infofile has to match the true recording MSO order, otherwise wrong MSO will be associated to epochs [Katastrophe].\n",
      "  warnings.warn(f'Cannot check the MSO order in blocksinfo for epoch {epochIndex} using mat-data information.'\n",
      "G:\\Vishnu\\Analysis\\tms-tg\\lib\\helper_tms_tg.py:166: UserWarning: Cannot check the MSO order in blocksinfo for epoch ('20210307', 'MC', 'L5', 'none', 'none', '1411') using mat-data information. Hence, using the MSO order in blocksinfo as it is; keep in mind that the source of this MSO order contained in infofile has to match the true recording MSO order, otherwise wrong MSO will be associated to epochs [Katastrophe].\n",
      "  warnings.warn(f'Cannot check the MSO order in blocksinfo for epoch {epochIndex} using mat-data information.'\n",
      "G:\\Vishnu\\Analysis\\tms-tg\\lib\\helper_tms_tg.py:166: UserWarning: Cannot check the MSO order in blocksinfo for epoch ('20210307', 'MC', 'L5', 'none', 'none', '1412') using mat-data information. Hence, using the MSO order in blocksinfo as it is; keep in mind that the source of this MSO order contained in infofile has to match the true recording MSO order, otherwise wrong MSO will be associated to epochs [Katastrophe].\n",
      "  warnings.warn(f'Cannot check the MSO order in blocksinfo for epoch {epochIndex} using mat-data information.'\n"
     ]
    }
   ],
   "source": [
    "dirname = pd.read_excel(animalList).dropna().loc[0, 'Folder']\n",
    "blocks = tms.blocksinfo.index.unique()\n",
    "for block in blocks:\n",
    "    block = [None if item == 'none' else item for item in block]\n",
    "    tms.analysis_params = {'selectionParams': {'Epoch': dict(zip(EPOCHISOLATORS,block)), }}\n",
    "    meanPSFR, t, meanBaselineFR, _ = tms.avg_FR_per_neuron(squeezeDim=False)\n",
    "    maxFR = np.max(meanPSFR)\n",
    "    selectBlocks, selectBlocksIdx = tms.filter_blocks\n",
    "    numRows = 12\n",
    "    numCols = math.ceil(len(meanPSFR) / numRows)\n",
    "    fig, axes = plt.subplots(numRows, numCols, figsize=(12,10))\n",
    "    fig.suptitle(block)\n",
    "    for index in range(len(meanPSFR)):\n",
    "        row = index % numRows\n",
    "        col = index // numRows\n",
    "        ax = axes[row] if numCols == 1 else axes[row][col]\n",
    "        ax.plot(t, meanPSFR[index].squeeze())\n",
    "        ax.set_ylabel('MT-\\n' + str(selectBlocks.iloc[index, 1]), fontsize=10)\n",
    "        ax.set_ylim(0, maxFR)\n",
    "        if any(boolIndex := pd.Series(selectBlocks.columns).str.match('Skin-Injection')): ax.set_title(selectBlocks.iloc[index, :].loc[boolIndex.values].item())\n",
    "        if index == 0: ax.legend(['Neuron - ' + str(item + 1) for item in range(meanPSFR[index].shape[2])])\n",
    "        \n",
    "    plt.savefig(dirname + '\\\\Figures\\\\' + str(block) + '.jpg', dpi='figure', format='jpeg')\n",
    "    plt.close() "
   ],
   "metadata": {
    "collapsed": false,
    "ExecuteTime": {
     "end_time": "2024-01-10T19:20:34.703123500Z",
     "start_time": "2024-01-10T19:07:26.320347700Z"
    }
   },
   "id": "46849e26f2dee5eb"
  },
  {
   "cell_type": "code",
   "execution_count": 11,
   "outputs": [
    {
     "data": {
      "text/plain": "(12, 2)"
     },
     "execution_count": 11,
     "metadata": {},
     "output_type": "execute_result"
    }
   ],
   "source": [
    "axes.shape"
   ],
   "metadata": {
    "collapsed": false,
    "ExecuteTime": {
     "end_time": "2024-01-10T15:00:57.991224200Z",
     "start_time": "2024-01-10T15:00:57.952848100Z"
    }
   },
   "id": "a910e33cd8ce8a3c"
  }
 ],
 "metadata": {
  "kernelspec": {
   "display_name": "Python 3",
   "language": "python",
   "name": "python3"
  },
  "language_info": {
   "codemirror_mode": {
    "name": "ipython",
    "version": 2
   },
   "file_extension": ".py",
   "mimetype": "text/x-python",
   "name": "python",
   "nbconvert_exporter": "python",
   "pygments_lexer": "ipython2",
   "version": "2.7.6"
  }
 },
 "nbformat": 4,
 "nbformat_minor": 5
}
